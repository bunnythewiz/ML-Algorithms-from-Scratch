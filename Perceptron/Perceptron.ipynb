{
  "nbformat": 4,
  "nbformat_minor": 0,
  "metadata": {
    "colab": {
      "provenance": []
    },
    "kernelspec": {
      "name": "python3",
      "display_name": "Python 3"
    },
    "language_info": {
      "name": "python"
    }
  },
  "cells": [
    {
      "cell_type": "code",
      "source": [
        "import random as rand\n",
        "import numpy as np\n",
        "import pandas as pd\n",
        "from sklearn.model_selection import train_test_split"
      ],
      "metadata": {
        "id": "rdvg1Bh4qgTv"
      },
      "execution_count": null,
      "outputs": []
    },
    {
      "cell_type": "code",
      "source": [
        "import warnings\n",
        "# Ignore warnings\n",
        "warnings.filterwarnings('ignore')"
      ],
      "metadata": {
        "id": "Z8k7r0AoxPXB"
      },
      "execution_count": null,
      "outputs": []
    },
    {
      "cell_type": "code",
      "source": [
        "import time"
      ],
      "metadata": {
        "id": "_6ESAEmnA57r"
      },
      "execution_count": null,
      "outputs": []
    },
    {
      "cell_type": "code",
      "source": [
        "from sklearn.neighbors import KNeighborsClassifier\n",
        "from sklearn.metrics import accuracy_score"
      ],
      "metadata": {
        "id": "LCrzeMd0AiWw"
      },
      "execution_count": null,
      "outputs": []
    },
    {
      "cell_type": "code",
      "source": [
        "import matplotlib.pyplot as plt\n",
        "from matplotlib.image import imread"
      ],
      "metadata": {
        "id": "xAak8NFsCZCa"
      },
      "execution_count": null,
      "outputs": []
    },
    {
      "cell_type": "code",
      "source": [
        "import plotly.express as px"
      ],
      "metadata": {
        "id": "XaGAIORt-pEc"
      },
      "execution_count": null,
      "outputs": []
    },
    {
      "cell_type": "markdown",
      "source": [
        "### **PERCEPTRON**"
      ],
      "metadata": {
        "id": "AOG4lComk9Yn"
      }
    },
    {
      "cell_type": "markdown",
      "source": [
        "**In Task 0 we are asked to Generate a synthetic 4-dimensional dataset, my approach will be**\n",
        "\n",
        "1.   I will initialize weights and bias randomly between -1 and 1\n",
        "2.   The 4D data-points will be integers from -9 to 9\n",
        "3.   The classification would result in '0'(+ve) if the activation function results in < 0 and '1'(-ve) if it results in >= 0\n",
        "4.   Lastly for the size of the data I will take it as say 5000\n",
        "5.   Then I have to return a data.txt, I will create a txt file in collab and save it in the drive"
      ],
      "metadata": {
        "id": "kB8qenGXlNYJ"
      }
    },
    {
      "cell_type": "code",
      "source": [
        "class Data_gen:\n",
        "\n",
        "  # Constructor\n",
        "  def __init__(self):\n",
        "    self.weights = None\n",
        "    self.bias = None\n",
        "    self.dataset = None\n",
        "    self.evaluation = None\n",
        "\n",
        "  def Weights(self):\n",
        "\n",
        "    # Let's create a list of four random float values\n",
        "    weights = []\n",
        "    for i in range(4):\n",
        "      weights.append(rand.uniform(-1, 1))\n",
        "\n",
        "    # Make it an attribute of a class\n",
        "    self.weights = weights\n",
        "    return\n",
        "\n",
        "  def Bias(self):\n",
        "\n",
        "    # Now for the bias\n",
        "    self.bias = rand.uniform(-1, 1)\n",
        "    return\n",
        "\n",
        "  def Data_points(self):\n",
        "\n",
        "    # Its size is 5000 x 4\n",
        "    data_points = []\n",
        "    for i in range(5000):\n",
        "      point = []\n",
        "      for j in range(4):\n",
        "        point.append(rand.randint(-9, 9))\n",
        "      data_points.append(point)\n",
        "\n",
        "    # Make it an attribute\n",
        "    self.dataset = data_points\n",
        "    return\n",
        "\n",
        "  def Evaluate(self):\n",
        "\n",
        "    # Here we are going to create the activation function using the given\n",
        "    # weights and bias f(x) = w0 + w1.x1 + w2.x2 + w3.x3 + w4.x4\n",
        "    result = []\n",
        "    for i in self.dataset:\n",
        "      if (np.dot(i, self.weights) + self.bias) < 0:\n",
        "        result.append(0)\n",
        "      else:\n",
        "        result.append(1)\n",
        "\n",
        "    # Make it an attribute\n",
        "    self.evaluation = result\n",
        "    return"
      ],
      "metadata": {
        "id": "Y2rONphCpLKT"
      },
      "execution_count": null,
      "outputs": []
    },
    {
      "cell_type": "markdown",
      "source": [
        "* So we now have weights, bias, dataset and evaluation"
      ],
      "metadata": {
        "id": "fwp7YJsFwRC5"
      }
    },
    {
      "cell_type": "code",
      "source": [
        "# Lets generate one data-set as an example\n",
        "ex = Data_gen()"
      ],
      "metadata": {
        "id": "eZUtVJoJwpoi"
      },
      "execution_count": null,
      "outputs": []
    },
    {
      "cell_type": "code",
      "source": [
        "# Get weights\n",
        "ex.Weights()\n",
        "print(ex.weights)"
      ],
      "metadata": {
        "colab": {
          "base_uri": "https://localhost:8080/"
        },
        "id": "x9uys9S1w82j",
        "outputId": "40bf073f-e19d-4b8c-a0e6-1d6e7edf30c5"
      },
      "execution_count": null,
      "outputs": [
        {
          "output_type": "stream",
          "name": "stdout",
          "text": [
            "[0.34541521141451215, 0.8527407173318948, 0.18570920264208013, 0.5374987296217038]\n"
          ]
        }
      ]
    },
    {
      "cell_type": "code",
      "source": [
        "# Get Bias\n",
        "ex.Bias()\n",
        "print(ex.bias)"
      ],
      "metadata": {
        "colab": {
          "base_uri": "https://localhost:8080/"
        },
        "id": "JxkyYLtsxRDo",
        "outputId": "243f5324-f001-4bcd-b840-fb0127145777"
      },
      "execution_count": null,
      "outputs": [
        {
          "output_type": "stream",
          "name": "stdout",
          "text": [
            "0.3074483177242595\n"
          ]
        }
      ]
    },
    {
      "cell_type": "code",
      "source": [
        "# Get dataset\n",
        "ex.Data_points()\n",
        "print(rand.sample(ex.dataset, 10))"
      ],
      "metadata": {
        "colab": {
          "base_uri": "https://localhost:8080/"
        },
        "id": "dPuPkgx-xWF9",
        "outputId": "91867f46-0666-476d-f309-c43955cd4f7a"
      },
      "execution_count": null,
      "outputs": [
        {
          "output_type": "stream",
          "name": "stdout",
          "text": [
            "[[7, -8, -7, 5], [-1, -4, 8, 1], [-9, 0, 3, 7], [-9, -7, 0, 4], [-7, 0, 4, 5], [9, -3, -9, 7], [-6, 6, 3, 6], [6, 8, -4, -7], [-9, 7, 6, 8], [-2, -7, 6, 7]]\n"
          ]
        }
      ]
    },
    {
      "cell_type": "code",
      "source": [
        "# Get classifiaction\n",
        "ex.Evaluate()\n",
        "print(rand.sample(ex.evaluation, 10))"
      ],
      "metadata": {
        "colab": {
          "base_uri": "https://localhost:8080/"
        },
        "id": "oqXX6VyMyI1y",
        "outputId": "cc0ff17f-cc2a-4b39-dcd9-aa5da4257bc8"
      },
      "execution_count": null,
      "outputs": [
        {
          "output_type": "stream",
          "name": "stdout",
          "text": [
            "[1, 1, 1, 0, 1, 1, 1, 0, 0, 0]\n"
          ]
        }
      ]
    },
    {
      "cell_type": "code",
      "source": [
        "# Now for easier operations lets create a df\n",
        "df = pd.DataFrame(ex.dataset, columns=['X1', 'X2', 'X3', 'X4'])\n",
        "df['class'] = ex.evaluation"
      ],
      "metadata": {
        "id": "TDwieb4aB9RJ"
      },
      "execution_count": null,
      "outputs": []
    },
    {
      "cell_type": "code",
      "source": [
        "# Visualisation\n",
        "df.sample(10)"
      ],
      "metadata": {
        "colab": {
          "base_uri": "https://localhost:8080/",
          "height": 363
        },
        "id": "WSwOglZcCkWp",
        "outputId": "fb678be0-5e75-414f-c9a9-6f1e9430399a"
      },
      "execution_count": null,
      "outputs": [
        {
          "output_type": "execute_result",
          "data": {
            "text/plain": [
              "      X1  X2  X3  X4  class\n",
              "743    0   3  -2  -5      0\n",
              "969   -4  -9  -4   3      0\n",
              "1120   6   5   8  -6      1\n",
              "1114  -6  -8   3  -6      0\n",
              "1100   2  -2  -3   7      1\n",
              "1342   5   1   4  -1      1\n",
              "4089   5   0  -3   0      1\n",
              "1422  -6   0  -3   3      0\n",
              "4656   3  -2  -4  -2      0\n",
              "858    5  -5  -4   1      0"
            ],
            "text/html": [
              "\n",
              "  <div id=\"df-42dd0a7e-bd1a-4224-b8e3-1fc106b61b28\" class=\"colab-df-container\">\n",
              "    <div>\n",
              "<style scoped>\n",
              "    .dataframe tbody tr th:only-of-type {\n",
              "        vertical-align: middle;\n",
              "    }\n",
              "\n",
              "    .dataframe tbody tr th {\n",
              "        vertical-align: top;\n",
              "    }\n",
              "\n",
              "    .dataframe thead th {\n",
              "        text-align: right;\n",
              "    }\n",
              "</style>\n",
              "<table border=\"1\" class=\"dataframe\">\n",
              "  <thead>\n",
              "    <tr style=\"text-align: right;\">\n",
              "      <th></th>\n",
              "      <th>X1</th>\n",
              "      <th>X2</th>\n",
              "      <th>X3</th>\n",
              "      <th>X4</th>\n",
              "      <th>class</th>\n",
              "    </tr>\n",
              "  </thead>\n",
              "  <tbody>\n",
              "    <tr>\n",
              "      <th>743</th>\n",
              "      <td>0</td>\n",
              "      <td>3</td>\n",
              "      <td>-2</td>\n",
              "      <td>-5</td>\n",
              "      <td>0</td>\n",
              "    </tr>\n",
              "    <tr>\n",
              "      <th>969</th>\n",
              "      <td>-4</td>\n",
              "      <td>-9</td>\n",
              "      <td>-4</td>\n",
              "      <td>3</td>\n",
              "      <td>0</td>\n",
              "    </tr>\n",
              "    <tr>\n",
              "      <th>1120</th>\n",
              "      <td>6</td>\n",
              "      <td>5</td>\n",
              "      <td>8</td>\n",
              "      <td>-6</td>\n",
              "      <td>1</td>\n",
              "    </tr>\n",
              "    <tr>\n",
              "      <th>1114</th>\n",
              "      <td>-6</td>\n",
              "      <td>-8</td>\n",
              "      <td>3</td>\n",
              "      <td>-6</td>\n",
              "      <td>0</td>\n",
              "    </tr>\n",
              "    <tr>\n",
              "      <th>1100</th>\n",
              "      <td>2</td>\n",
              "      <td>-2</td>\n",
              "      <td>-3</td>\n",
              "      <td>7</td>\n",
              "      <td>1</td>\n",
              "    </tr>\n",
              "    <tr>\n",
              "      <th>1342</th>\n",
              "      <td>5</td>\n",
              "      <td>1</td>\n",
              "      <td>4</td>\n",
              "      <td>-1</td>\n",
              "      <td>1</td>\n",
              "    </tr>\n",
              "    <tr>\n",
              "      <th>4089</th>\n",
              "      <td>5</td>\n",
              "      <td>0</td>\n",
              "      <td>-3</td>\n",
              "      <td>0</td>\n",
              "      <td>1</td>\n",
              "    </tr>\n",
              "    <tr>\n",
              "      <th>1422</th>\n",
              "      <td>-6</td>\n",
              "      <td>0</td>\n",
              "      <td>-3</td>\n",
              "      <td>3</td>\n",
              "      <td>0</td>\n",
              "    </tr>\n",
              "    <tr>\n",
              "      <th>4656</th>\n",
              "      <td>3</td>\n",
              "      <td>-2</td>\n",
              "      <td>-4</td>\n",
              "      <td>-2</td>\n",
              "      <td>0</td>\n",
              "    </tr>\n",
              "    <tr>\n",
              "      <th>858</th>\n",
              "      <td>5</td>\n",
              "      <td>-5</td>\n",
              "      <td>-4</td>\n",
              "      <td>1</td>\n",
              "      <td>0</td>\n",
              "    </tr>\n",
              "  </tbody>\n",
              "</table>\n",
              "</div>\n",
              "    <div class=\"colab-df-buttons\">\n",
              "\n",
              "  <div class=\"colab-df-container\">\n",
              "    <button class=\"colab-df-convert\" onclick=\"convertToInteractive('df-42dd0a7e-bd1a-4224-b8e3-1fc106b61b28')\"\n",
              "            title=\"Convert this dataframe to an interactive table.\"\n",
              "            style=\"display:none;\">\n",
              "\n",
              "  <svg xmlns=\"http://www.w3.org/2000/svg\" height=\"24px\" viewBox=\"0 -960 960 960\">\n",
              "    <path d=\"M120-120v-720h720v720H120Zm60-500h600v-160H180v160Zm220 220h160v-160H400v160Zm0 220h160v-160H400v160ZM180-400h160v-160H180v160Zm440 0h160v-160H620v160ZM180-180h160v-160H180v160Zm440 0h160v-160H620v160Z\"/>\n",
              "  </svg>\n",
              "    </button>\n",
              "\n",
              "  <style>\n",
              "    .colab-df-container {\n",
              "      display:flex;\n",
              "      gap: 12px;\n",
              "    }\n",
              "\n",
              "    .colab-df-convert {\n",
              "      background-color: #E8F0FE;\n",
              "      border: none;\n",
              "      border-radius: 50%;\n",
              "      cursor: pointer;\n",
              "      display: none;\n",
              "      fill: #1967D2;\n",
              "      height: 32px;\n",
              "      padding: 0 0 0 0;\n",
              "      width: 32px;\n",
              "    }\n",
              "\n",
              "    .colab-df-convert:hover {\n",
              "      background-color: #E2EBFA;\n",
              "      box-shadow: 0px 1px 2px rgba(60, 64, 67, 0.3), 0px 1px 3px 1px rgba(60, 64, 67, 0.15);\n",
              "      fill: #174EA6;\n",
              "    }\n",
              "\n",
              "    .colab-df-buttons div {\n",
              "      margin-bottom: 4px;\n",
              "    }\n",
              "\n",
              "    [theme=dark] .colab-df-convert {\n",
              "      background-color: #3B4455;\n",
              "      fill: #D2E3FC;\n",
              "    }\n",
              "\n",
              "    [theme=dark] .colab-df-convert:hover {\n",
              "      background-color: #434B5C;\n",
              "      box-shadow: 0px 1px 3px 1px rgba(0, 0, 0, 0.15);\n",
              "      filter: drop-shadow(0px 1px 2px rgba(0, 0, 0, 0.3));\n",
              "      fill: #FFFFFF;\n",
              "    }\n",
              "  </style>\n",
              "\n",
              "    <script>\n",
              "      const buttonEl =\n",
              "        document.querySelector('#df-42dd0a7e-bd1a-4224-b8e3-1fc106b61b28 button.colab-df-convert');\n",
              "      buttonEl.style.display =\n",
              "        google.colab.kernel.accessAllowed ? 'block' : 'none';\n",
              "\n",
              "      async function convertToInteractive(key) {\n",
              "        const element = document.querySelector('#df-42dd0a7e-bd1a-4224-b8e3-1fc106b61b28');\n",
              "        const dataTable =\n",
              "          await google.colab.kernel.invokeFunction('convertToInteractive',\n",
              "                                                    [key], {});\n",
              "        if (!dataTable) return;\n",
              "\n",
              "        const docLinkHtml = 'Like what you see? Visit the ' +\n",
              "          '<a target=\"_blank\" href=https://colab.research.google.com/notebooks/data_table.ipynb>data table notebook</a>'\n",
              "          + ' to learn more about interactive tables.';\n",
              "        element.innerHTML = '';\n",
              "        dataTable['output_type'] = 'display_data';\n",
              "        await google.colab.output.renderOutput(dataTable, element);\n",
              "        const docLink = document.createElement('div');\n",
              "        docLink.innerHTML = docLinkHtml;\n",
              "        element.appendChild(docLink);\n",
              "      }\n",
              "    </script>\n",
              "  </div>\n",
              "\n",
              "\n",
              "<div id=\"df-ec33d395-2322-4b4f-aa46-31b13e4b7131\">\n",
              "  <button class=\"colab-df-quickchart\" onclick=\"quickchart('df-ec33d395-2322-4b4f-aa46-31b13e4b7131')\"\n",
              "            title=\"Suggest charts\"\n",
              "            style=\"display:none;\">\n",
              "\n",
              "<svg xmlns=\"http://www.w3.org/2000/svg\" height=\"24px\"viewBox=\"0 0 24 24\"\n",
              "     width=\"24px\">\n",
              "    <g>\n",
              "        <path d=\"M19 3H5c-1.1 0-2 .9-2 2v14c0 1.1.9 2 2 2h14c1.1 0 2-.9 2-2V5c0-1.1-.9-2-2-2zM9 17H7v-7h2v7zm4 0h-2V7h2v10zm4 0h-2v-4h2v4z\"/>\n",
              "    </g>\n",
              "</svg>\n",
              "  </button>\n",
              "\n",
              "<style>\n",
              "  .colab-df-quickchart {\n",
              "      --bg-color: #E8F0FE;\n",
              "      --fill-color: #1967D2;\n",
              "      --hover-bg-color: #E2EBFA;\n",
              "      --hover-fill-color: #174EA6;\n",
              "      --disabled-fill-color: #AAA;\n",
              "      --disabled-bg-color: #DDD;\n",
              "  }\n",
              "\n",
              "  [theme=dark] .colab-df-quickchart {\n",
              "      --bg-color: #3B4455;\n",
              "      --fill-color: #D2E3FC;\n",
              "      --hover-bg-color: #434B5C;\n",
              "      --hover-fill-color: #FFFFFF;\n",
              "      --disabled-bg-color: #3B4455;\n",
              "      --disabled-fill-color: #666;\n",
              "  }\n",
              "\n",
              "  .colab-df-quickchart {\n",
              "    background-color: var(--bg-color);\n",
              "    border: none;\n",
              "    border-radius: 50%;\n",
              "    cursor: pointer;\n",
              "    display: none;\n",
              "    fill: var(--fill-color);\n",
              "    height: 32px;\n",
              "    padding: 0;\n",
              "    width: 32px;\n",
              "  }\n",
              "\n",
              "  .colab-df-quickchart:hover {\n",
              "    background-color: var(--hover-bg-color);\n",
              "    box-shadow: 0 1px 2px rgba(60, 64, 67, 0.3), 0 1px 3px 1px rgba(60, 64, 67, 0.15);\n",
              "    fill: var(--button-hover-fill-color);\n",
              "  }\n",
              "\n",
              "  .colab-df-quickchart-complete:disabled,\n",
              "  .colab-df-quickchart-complete:disabled:hover {\n",
              "    background-color: var(--disabled-bg-color);\n",
              "    fill: var(--disabled-fill-color);\n",
              "    box-shadow: none;\n",
              "  }\n",
              "\n",
              "  .colab-df-spinner {\n",
              "    border: 2px solid var(--fill-color);\n",
              "    border-color: transparent;\n",
              "    border-bottom-color: var(--fill-color);\n",
              "    animation:\n",
              "      spin 1s steps(1) infinite;\n",
              "  }\n",
              "\n",
              "  @keyframes spin {\n",
              "    0% {\n",
              "      border-color: transparent;\n",
              "      border-bottom-color: var(--fill-color);\n",
              "      border-left-color: var(--fill-color);\n",
              "    }\n",
              "    20% {\n",
              "      border-color: transparent;\n",
              "      border-left-color: var(--fill-color);\n",
              "      border-top-color: var(--fill-color);\n",
              "    }\n",
              "    30% {\n",
              "      border-color: transparent;\n",
              "      border-left-color: var(--fill-color);\n",
              "      border-top-color: var(--fill-color);\n",
              "      border-right-color: var(--fill-color);\n",
              "    }\n",
              "    40% {\n",
              "      border-color: transparent;\n",
              "      border-right-color: var(--fill-color);\n",
              "      border-top-color: var(--fill-color);\n",
              "    }\n",
              "    60% {\n",
              "      border-color: transparent;\n",
              "      border-right-color: var(--fill-color);\n",
              "    }\n",
              "    80% {\n",
              "      border-color: transparent;\n",
              "      border-right-color: var(--fill-color);\n",
              "      border-bottom-color: var(--fill-color);\n",
              "    }\n",
              "    90% {\n",
              "      border-color: transparent;\n",
              "      border-bottom-color: var(--fill-color);\n",
              "    }\n",
              "  }\n",
              "</style>\n",
              "\n",
              "  <script>\n",
              "    async function quickchart(key) {\n",
              "      const quickchartButtonEl =\n",
              "        document.querySelector('#' + key + ' button');\n",
              "      quickchartButtonEl.disabled = true;  // To prevent multiple clicks.\n",
              "      quickchartButtonEl.classList.add('colab-df-spinner');\n",
              "      try {\n",
              "        const charts = await google.colab.kernel.invokeFunction(\n",
              "            'suggestCharts', [key], {});\n",
              "      } catch (error) {\n",
              "        console.error('Error during call to suggestCharts:', error);\n",
              "      }\n",
              "      quickchartButtonEl.classList.remove('colab-df-spinner');\n",
              "      quickchartButtonEl.classList.add('colab-df-quickchart-complete');\n",
              "    }\n",
              "    (() => {\n",
              "      let quickchartButtonEl =\n",
              "        document.querySelector('#df-ec33d395-2322-4b4f-aa46-31b13e4b7131 button');\n",
              "      quickchartButtonEl.style.display =\n",
              "        google.colab.kernel.accessAllowed ? 'block' : 'none';\n",
              "    })();\n",
              "  </script>\n",
              "</div>\n",
              "    </div>\n",
              "  </div>\n"
            ],
            "application/vnd.google.colaboratory.intrinsic+json": {
              "type": "dataframe",
              "summary": "{\n  \"name\": \"df\",\n  \"rows\": 10,\n  \"fields\": [\n    {\n      \"column\": \"X1\",\n      \"properties\": {\n        \"dtype\": \"number\",\n        \"std\": 4,\n        \"min\": -6,\n        \"max\": 6,\n        \"num_unique_values\": 7,\n        \"samples\": [\n          0,\n          -4,\n          5\n        ],\n        \"semantic_type\": \"\",\n        \"description\": \"\"\n      }\n    },\n    {\n      \"column\": \"X2\",\n      \"properties\": {\n        \"dtype\": \"number\",\n        \"std\": 4,\n        \"min\": -9,\n        \"max\": 5,\n        \"num_unique_values\": 8,\n        \"samples\": [\n          -9,\n          1,\n          3\n        ],\n        \"semantic_type\": \"\",\n        \"description\": \"\"\n      }\n    },\n    {\n      \"column\": \"X3\",\n      \"properties\": {\n        \"dtype\": \"number\",\n        \"std\": 4,\n        \"min\": -4,\n        \"max\": 8,\n        \"num_unique_values\": 6,\n        \"samples\": [\n          -2,\n          -4,\n          4\n        ],\n        \"semantic_type\": \"\",\n        \"description\": \"\"\n      }\n    },\n    {\n      \"column\": \"X4\",\n      \"properties\": {\n        \"dtype\": \"number\",\n        \"std\": 4,\n        \"min\": -6,\n        \"max\": 7,\n        \"num_unique_values\": 8,\n        \"samples\": [\n          3,\n          0,\n          -5\n        ],\n        \"semantic_type\": \"\",\n        \"description\": \"\"\n      }\n    },\n    {\n      \"column\": \"class\",\n      \"properties\": {\n        \"dtype\": \"number\",\n        \"std\": 0,\n        \"min\": 0,\n        \"max\": 1,\n        \"num_unique_values\": 2,\n        \"samples\": [\n          1,\n          0\n        ],\n        \"semantic_type\": \"\",\n        \"description\": \"\"\n      }\n    }\n  ]\n}"
            }
          },
          "metadata": {},
          "execution_count": 65
        }
      ]
    },
    {
      "cell_type": "code",
      "source": [
        "# Creating a txt file and writing\n",
        "# The data_set as txt\n",
        "f = open(\"data.txt\", 'w')\n",
        "print(df.shape[0], file = f)\n",
        "for i, k in df.iterrows():\n",
        "  print(df['X1'].iloc[i], df['X2'].iloc[i], df['X3'].iloc[i], df['X4'].iloc[i],\n",
        "        df['class'].iloc[i], file = f)\n",
        "f.close()"
      ],
      "metadata": {
        "id": "FT8ELedfTve7"
      },
      "execution_count": null,
      "outputs": []
    },
    {
      "cell_type": "markdown",
      "source": [
        "**We have to take a txt file as in input then, :**\n",
        "\n",
        "\n",
        "*   read the txt file [Getting our train test data]\n",
        "*   The target and features will be seperated as Y and X\n",
        "*   As in the task 3 the split ratio is different let us ask that in the form of input\n",
        "*   Split the data using train_test_split\n",
        "*   Give the train data as arguments to perceptron class object method\n",
        "*   Finally use the test data to evaluate accuracy for task 2"
      ],
      "metadata": {
        "id": "lcG_YeqbPvnh"
      }
    },
    {
      "cell_type": "code",
      "source": [
        "# Reading the file and creating the dataset accordingly\n",
        "# txt is string, convert to int via split and map\n",
        "# Then seperate feature 'X' and target 'Y'\n",
        "f = open(\"data.txt\", 'r')\n",
        "once  = 1\n",
        "X = []\n",
        "Y = []\n",
        "for line in f:\n",
        "  if(once == 1):\n",
        "    once -= 1\n",
        "    continue\n",
        "  else:\n",
        "    oka = list(map(float, line.split()))\n",
        "    X.append(oka[:4])\n",
        "    Y.append(oka[4])"
      ],
      "metadata": {
        "id": "j1wIU_xvbBrb"
      },
      "execution_count": null,
      "outputs": []
    },
    {
      "cell_type": "code",
      "source": [
        "# Converting into array\n",
        "X = np.array(X)\n",
        "Y = np.array(Y)"
      ],
      "metadata": {
        "id": "cmzo2BkUcpvm"
      },
      "execution_count": null,
      "outputs": []
    },
    {
      "cell_type": "code",
      "source": [
        "# Splitting data\n",
        "X_train, X_test, Y_train, Y_test = train_test_split(X, Y,\n",
        "                            train_size = 0.7, random_state = 1)"
      ],
      "metadata": {
        "id": "4tCe9DB8SMTQ"
      },
      "execution_count": null,
      "outputs": []
    },
    {
      "cell_type": "code",
      "source": [
        "X_train"
      ],
      "metadata": {
        "colab": {
          "base_uri": "https://localhost:8080/"
        },
        "id": "uqeaJPN5qBwR",
        "outputId": "d613d028-04e1-440c-b938-1d78461044f3"
      },
      "execution_count": null,
      "outputs": [
        {
          "output_type": "execute_result",
          "data": {
            "text/plain": [
              "array([[-8.,  6., -9., -2.],\n",
              "       [-6.,  8., -7.,  6.],\n",
              "       [-9., -1., -8.,  5.],\n",
              "       ...,\n",
              "       [ 1., -1.,  1., -4.],\n",
              "       [-9., -2., -8., -4.],\n",
              "       [-9., -4., -5.,  7.]])"
            ]
          },
          "metadata": {},
          "execution_count": 70
        }
      ]
    },
    {
      "cell_type": "code",
      "source": [
        "# Creating a txt file and writing\n",
        "# The data_set as txt\n",
        "f = open(\"train.txt\", 'w')\n",
        "print(len(X_train), file = f)\n",
        "for i in list(zip(X_train, Y_train)):\n",
        "  print(i[0][0], i[0][1], i[0][2], i[0][3],\n",
        "        i[1], file = f)\n",
        "f.close()"
      ],
      "metadata": {
        "id": "2Ml-s6q_p3X3"
      },
      "execution_count": null,
      "outputs": []
    },
    {
      "cell_type": "code",
      "source": [
        "# Creating a txt file and writing\n",
        "# The data_set as txt\n",
        "f = open(\"test.txt\", 'w')\n",
        "print(len(X_test), file = f)\n",
        "for i in X_test:\n",
        "  print(i[0], i[1], i[2], i[3], file = f)\n",
        "f.close()"
      ],
      "metadata": {
        "id": "iyKkydJdrxKq"
      },
      "execution_count": null,
      "outputs": []
    },
    {
      "cell_type": "code",
      "source": [
        "# Checking\n",
        "X_train.shape"
      ],
      "metadata": {
        "colab": {
          "base_uri": "https://localhost:8080/"
        },
        "id": "0Ql1sUfEStS7",
        "outputId": "3cee07a4-e744-4cbe-8b91-e6a5c07c32ca"
      },
      "execution_count": null,
      "outputs": [
        {
          "output_type": "execute_result",
          "data": {
            "text/plain": [
              "(3500, 4)"
            ]
          },
          "metadata": {},
          "execution_count": 73
        }
      ]
    },
    {
      "cell_type": "markdown",
      "source": [
        "**In Task 1 we are asked to write training code for the perceptron learning algorithm, my approach**\n",
        "\n",
        "1.   It will have two attributes weights and bias\n",
        "2.   The method activation function for classification\n",
        "3.   The method fit to keep changing weights based on misclassifaction"
      ],
      "metadata": {
        "id": "U3CuenInQ-Cq"
      }
    },
    {
      "cell_type": "code",
      "source": [
        "class Perceptron:\n",
        "\n",
        "  # Constructor\n",
        "  def __init__ (self):\n",
        "    # Attributes for weights(w) and bias(b)\n",
        "    # Initilise the weights and bias to 0\n",
        "    self.w = [0, 0, 0, 0]\n",
        "    self.b = 0\n",
        "\n",
        "  # Activation_func\n",
        "  def activation_func(self, x):\n",
        "    return 1 if (np.dot(self.w, x) + self.b >= 0) else 0\n",
        "\n",
        "  # We first predict the class\n",
        "  # Then use it to check for misclassification\n",
        "  def predict(self, X):\n",
        "    Y = []\n",
        "    for x in X:\n",
        "      result = self.activation_func(x)\n",
        "      Y.append(result)\n",
        "    return np.array(Y)\n",
        "\n",
        "  def train(self, X, Y):\n",
        "    # Learning rate\n",
        "    lr = 0.05\n",
        "\n",
        "    # Get prediction data\n",
        "    Y_pred = self.predict(X)\n",
        "\n",
        "    # Running loop till convergence\n",
        "    while((Y == Y_pred).all() == False):\n",
        "      for x, y in zip(X, Y):\n",
        "        y_pred = self.activation_func(x)\n",
        "        if y == 1 and y_pred == 0:\n",
        "          self.w = self.w + lr * x\n",
        "          self.b = self.b + lr\n",
        "        elif y == 0 and y_pred == 1:\n",
        "          self.w = self.w - lr * x\n",
        "          self.b = self.b - lr\n",
        "      Y_pred = self.predict(X)"
      ],
      "metadata": {
        "id": "PXLA9POLGF0e"
      },
      "execution_count": null,
      "outputs": []
    },
    {
      "cell_type": "markdown",
      "source": [
        "**Another observation that I made here was that the hyperparameter lr{Learning Rate} doesn't change the convergence time by much here I am not using epoch or loss function because I am sure it will converge**\n",
        "\n",
        "*   lr = 0.01 -> --- 32.558263540267944 seconds ---\n",
        "*   lr = 0.05 -> --- 32.847246170043945 seconds ---\n",
        "*   lr = 00.1 ->  --- 33.67516469955444 seconds ---\n",
        "*   lr = 001 ->   --- 32.027671813964844 seconds ---\n",
        "\n"
      ],
      "metadata": {
        "id": "O2nqO2EuKfU0"
      }
    },
    {
      "cell_type": "code",
      "source": [
        "# Training\n",
        "pp = Perceptron()\n",
        "pp.train(X_train, Y_train)"
      ],
      "metadata": {
        "id": "txFs16VpS54P"
      },
      "execution_count": null,
      "outputs": []
    },
    {
      "cell_type": "markdown",
      "source": [
        "**Task 2 We need to test model on testing data and report the accuracy**"
      ],
      "metadata": {
        "id": "BSVsBIAK02YQ"
      }
    },
    {
      "cell_type": "code",
      "source": [
        "# Evaluation\n",
        "result = pp.predict(X_test)\n",
        "print(result)"
      ],
      "metadata": {
        "colab": {
          "base_uri": "https://localhost:8080/"
        },
        "id": "877YKHhn1BZe",
        "outputId": "562f4c0c-a10f-4608-d2b9-0f5644d4f815"
      },
      "execution_count": null,
      "outputs": [
        {
          "output_type": "stream",
          "name": "stdout",
          "text": [
            "[0 1 1 ... 0 0 1]\n"
          ]
        }
      ]
    },
    {
      "cell_type": "code",
      "source": [
        "Y_test"
      ],
      "metadata": {
        "colab": {
          "base_uri": "https://localhost:8080/"
        },
        "id": "TohOqwIMwTc6",
        "outputId": "c759390a-7e65-461b-ff2d-53bd707c6abb"
      },
      "execution_count": null,
      "outputs": [
        {
          "output_type": "execute_result",
          "data": {
            "text/plain": [
              "array([0., 1., 1., ..., 0., 0., 1.])"
            ]
          },
          "metadata": {},
          "execution_count": 77
        }
      ]
    },
    {
      "cell_type": "code",
      "source": [
        "# Accuracy\n",
        "correct = 0\n",
        "for i in range(len(X_test)):\n",
        "  if(result[i] == Y_test[i]):\n",
        "    correct += 1\n",
        "print((correct / len(X_test))*100)"
      ],
      "metadata": {
        "colab": {
          "base_uri": "https://localhost:8080/"
        },
        "id": "CNHCXsSidg_g",
        "outputId": "25602f56-37a6-4c6c-f9f9-42c56f914472"
      },
      "execution_count": null,
      "outputs": [
        {
          "output_type": "stream",
          "name": "stdout",
          "text": [
            "99.8\n"
          ]
        }
      ]
    }
  ]
}