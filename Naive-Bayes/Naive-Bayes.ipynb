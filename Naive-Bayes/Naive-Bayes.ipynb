{
  "nbformat": 4,
  "nbformat_minor": 0,
  "metadata": {
    "colab": {
      "provenance": []
    },
    "kernelspec": {
      "name": "python3",
      "display_name": "Python 3"
    },
    "language_info": {
      "name": "python"
    }
  },
  "cells": [
    {
      "cell_type": "markdown",
      "source": [
        "# Modules"
      ],
      "metadata": {
        "id": "amoZHWieEivL"
      }
    },
    {
      "cell_type": "code",
      "execution_count": null,
      "metadata": {
        "id": "EqLGRzyBqrVy"
      },
      "outputs": [],
      "source": [
        "import csv\n",
        "import numpy as np\n",
        "import pandas as pd"
      ]
    },
    {
      "cell_type": "code",
      "execution_count": null,
      "metadata": {
        "id": "QT3D2wylb6gz"
      },
      "outputs": [],
      "source": [
        "import math"
      ]
    },
    {
      "cell_type": "code",
      "execution_count": null,
      "metadata": {
        "id": "DuAcZ73xwNUg"
      },
      "outputs": [],
      "source": [
        "import seaborn as sns\n",
        "import matplotlib.pyplot as plt"
      ]
    },
    {
      "cell_type": "code",
      "execution_count": null,
      "metadata": {
        "id": "iz_EcB_qZPkf"
      },
      "outputs": [],
      "source": [
        "# Ignore warnings\n",
        "import warnings\n",
        "warnings.filterwarnings('ignore')"
      ]
    },
    {
      "cell_type": "code",
      "source": [
        "from sklearn.neighbors import KNeighborsClassifier"
      ],
      "metadata": {
        "id": "RnHbiyDTnOvx"
      },
      "execution_count": null,
      "outputs": []
    },
    {
      "cell_type": "code",
      "source": [
        "from sklearn.metrics import confusion_matrix, ConfusionMatrixDisplay, classification_report, accuracy_score"
      ],
      "metadata": {
        "id": "r7hhdvEvqYtT"
      },
      "execution_count": null,
      "outputs": []
    },
    {
      "cell_type": "code",
      "source": [
        "from sklearn.model_selection import train_test_split"
      ],
      "metadata": {
        "id": "r5ZiAbGkncx4"
      },
      "execution_count": null,
      "outputs": []
    },
    {
      "cell_type": "code",
      "execution_count": null,
      "metadata": {
        "colab": {
          "base_uri": "https://localhost:8080/"
        },
        "id": "JwusmuivpIUq",
        "outputId": "0f1076f1-5eba-4f3e-fa8c-9c7443b4f41f"
      },
      "outputs": [
        {
          "output_type": "stream",
          "name": "stdout",
          "text": [
            "Drive already mounted at /gdrive; to attempt to forcibly remount, call drive.mount(\"/gdrive\", force_remount=True).\n"
          ]
        }
      ],
      "source": [
        "# Import and mount to access drive\n",
        "from google.colab import drive\n",
        "drive.mount('/gdrive')"
      ]
    },
    {
      "cell_type": "markdown",
      "source": [
        "#Naive Bayes"
      ],
      "metadata": {
        "id": "k5dXtPDstkAM"
      }
    },
    {
      "cell_type": "markdown",
      "source": [
        "## Data Pre-Processing & Visualisation"
      ],
      "metadata": {
        "id": "RC5SQrxqvai-"
      }
    },
    {
      "cell_type": "code",
      "source": [
        "# Create a data frame of data.csv\n",
        "df = pd.read_csv('/gdrive/MyDrive/naive_bayes.csv', header = 0)"
      ],
      "metadata": {
        "id": "_Ana3Aneveh7"
      },
      "execution_count": null,
      "outputs": []
    },
    {
      "cell_type": "code",
      "source": [
        "# Sample\n",
        "df"
      ],
      "metadata": {
        "colab": {
          "base_uri": "https://localhost:8080/",
          "height": 488
        },
        "id": "9AspUJ-8vqtE",
        "outputId": "46e2c59a-355e-43e7-c053-34f3c620ef62"
      },
      "execution_count": null,
      "outputs": [
        {
          "output_type": "execute_result",
          "data": {
            "text/plain": [
              "     Outlook  Temp Humidity Windy Play\n",
              "0      Rainy   Hot     High     f   no\n",
              "1      Rainy   Hot     High     t   no\n",
              "2   Overcast   Hot     High     f  yes\n",
              "3      Sunny  Mild     High     f  yes\n",
              "4      Sunny  Cool   Normal     f  yes\n",
              "5      Sunny  Cool   Normal     t   no\n",
              "6   Overcast  Cool   Normal     t  yes\n",
              "7      Rainy  Mild     High     f   no\n",
              "8      Rainy  Cool   Normal     f  yes\n",
              "9      Sunny  Mild   Normal     f  yes\n",
              "10     Rainy  Mild   Normal     t  yes\n",
              "11  Overcast  Mild     High     t  yes\n",
              "12  Overcast   Hot   Normal     f  yes\n",
              "13     Sunny  Mild     High     t   no"
            ],
            "text/html": [
              "\n",
              "  <div id=\"df-2c549d33-09a4-46b3-881b-b4e3e1e1b490\" class=\"colab-df-container\">\n",
              "    <div>\n",
              "<style scoped>\n",
              "    .dataframe tbody tr th:only-of-type {\n",
              "        vertical-align: middle;\n",
              "    }\n",
              "\n",
              "    .dataframe tbody tr th {\n",
              "        vertical-align: top;\n",
              "    }\n",
              "\n",
              "    .dataframe thead th {\n",
              "        text-align: right;\n",
              "    }\n",
              "</style>\n",
              "<table border=\"1\" class=\"dataframe\">\n",
              "  <thead>\n",
              "    <tr style=\"text-align: right;\">\n",
              "      <th></th>\n",
              "      <th>Outlook</th>\n",
              "      <th>Temp</th>\n",
              "      <th>Humidity</th>\n",
              "      <th>Windy</th>\n",
              "      <th>Play</th>\n",
              "    </tr>\n",
              "  </thead>\n",
              "  <tbody>\n",
              "    <tr>\n",
              "      <th>0</th>\n",
              "      <td>Rainy</td>\n",
              "      <td>Hot</td>\n",
              "      <td>High</td>\n",
              "      <td>f</td>\n",
              "      <td>no</td>\n",
              "    </tr>\n",
              "    <tr>\n",
              "      <th>1</th>\n",
              "      <td>Rainy</td>\n",
              "      <td>Hot</td>\n",
              "      <td>High</td>\n",
              "      <td>t</td>\n",
              "      <td>no</td>\n",
              "    </tr>\n",
              "    <tr>\n",
              "      <th>2</th>\n",
              "      <td>Overcast</td>\n",
              "      <td>Hot</td>\n",
              "      <td>High</td>\n",
              "      <td>f</td>\n",
              "      <td>yes</td>\n",
              "    </tr>\n",
              "    <tr>\n",
              "      <th>3</th>\n",
              "      <td>Sunny</td>\n",
              "      <td>Mild</td>\n",
              "      <td>High</td>\n",
              "      <td>f</td>\n",
              "      <td>yes</td>\n",
              "    </tr>\n",
              "    <tr>\n",
              "      <th>4</th>\n",
              "      <td>Sunny</td>\n",
              "      <td>Cool</td>\n",
              "      <td>Normal</td>\n",
              "      <td>f</td>\n",
              "      <td>yes</td>\n",
              "    </tr>\n",
              "    <tr>\n",
              "      <th>5</th>\n",
              "      <td>Sunny</td>\n",
              "      <td>Cool</td>\n",
              "      <td>Normal</td>\n",
              "      <td>t</td>\n",
              "      <td>no</td>\n",
              "    </tr>\n",
              "    <tr>\n",
              "      <th>6</th>\n",
              "      <td>Overcast</td>\n",
              "      <td>Cool</td>\n",
              "      <td>Normal</td>\n",
              "      <td>t</td>\n",
              "      <td>yes</td>\n",
              "    </tr>\n",
              "    <tr>\n",
              "      <th>7</th>\n",
              "      <td>Rainy</td>\n",
              "      <td>Mild</td>\n",
              "      <td>High</td>\n",
              "      <td>f</td>\n",
              "      <td>no</td>\n",
              "    </tr>\n",
              "    <tr>\n",
              "      <th>8</th>\n",
              "      <td>Rainy</td>\n",
              "      <td>Cool</td>\n",
              "      <td>Normal</td>\n",
              "      <td>f</td>\n",
              "      <td>yes</td>\n",
              "    </tr>\n",
              "    <tr>\n",
              "      <th>9</th>\n",
              "      <td>Sunny</td>\n",
              "      <td>Mild</td>\n",
              "      <td>Normal</td>\n",
              "      <td>f</td>\n",
              "      <td>yes</td>\n",
              "    </tr>\n",
              "    <tr>\n",
              "      <th>10</th>\n",
              "      <td>Rainy</td>\n",
              "      <td>Mild</td>\n",
              "      <td>Normal</td>\n",
              "      <td>t</td>\n",
              "      <td>yes</td>\n",
              "    </tr>\n",
              "    <tr>\n",
              "      <th>11</th>\n",
              "      <td>Overcast</td>\n",
              "      <td>Mild</td>\n",
              "      <td>High</td>\n",
              "      <td>t</td>\n",
              "      <td>yes</td>\n",
              "    </tr>\n",
              "    <tr>\n",
              "      <th>12</th>\n",
              "      <td>Overcast</td>\n",
              "      <td>Hot</td>\n",
              "      <td>Normal</td>\n",
              "      <td>f</td>\n",
              "      <td>yes</td>\n",
              "    </tr>\n",
              "    <tr>\n",
              "      <th>13</th>\n",
              "      <td>Sunny</td>\n",
              "      <td>Mild</td>\n",
              "      <td>High</td>\n",
              "      <td>t</td>\n",
              "      <td>no</td>\n",
              "    </tr>\n",
              "  </tbody>\n",
              "</table>\n",
              "</div>\n",
              "    <div class=\"colab-df-buttons\">\n",
              "\n",
              "  <div class=\"colab-df-container\">\n",
              "    <button class=\"colab-df-convert\" onclick=\"convertToInteractive('df-2c549d33-09a4-46b3-881b-b4e3e1e1b490')\"\n",
              "            title=\"Convert this dataframe to an interactive table.\"\n",
              "            style=\"display:none;\">\n",
              "\n",
              "  <svg xmlns=\"http://www.w3.org/2000/svg\" height=\"24px\" viewBox=\"0 -960 960 960\">\n",
              "    <path d=\"M120-120v-720h720v720H120Zm60-500h600v-160H180v160Zm220 220h160v-160H400v160Zm0 220h160v-160H400v160ZM180-400h160v-160H180v160Zm440 0h160v-160H620v160ZM180-180h160v-160H180v160Zm440 0h160v-160H620v160Z\"/>\n",
              "  </svg>\n",
              "    </button>\n",
              "\n",
              "  <style>\n",
              "    .colab-df-container {\n",
              "      display:flex;\n",
              "      gap: 12px;\n",
              "    }\n",
              "\n",
              "    .colab-df-convert {\n",
              "      background-color: #E8F0FE;\n",
              "      border: none;\n",
              "      border-radius: 50%;\n",
              "      cursor: pointer;\n",
              "      display: none;\n",
              "      fill: #1967D2;\n",
              "      height: 32px;\n",
              "      padding: 0 0 0 0;\n",
              "      width: 32px;\n",
              "    }\n",
              "\n",
              "    .colab-df-convert:hover {\n",
              "      background-color: #E2EBFA;\n",
              "      box-shadow: 0px 1px 2px rgba(60, 64, 67, 0.3), 0px 1px 3px 1px rgba(60, 64, 67, 0.15);\n",
              "      fill: #174EA6;\n",
              "    }\n",
              "\n",
              "    .colab-df-buttons div {\n",
              "      margin-bottom: 4px;\n",
              "    }\n",
              "\n",
              "    [theme=dark] .colab-df-convert {\n",
              "      background-color: #3B4455;\n",
              "      fill: #D2E3FC;\n",
              "    }\n",
              "\n",
              "    [theme=dark] .colab-df-convert:hover {\n",
              "      background-color: #434B5C;\n",
              "      box-shadow: 0px 1px 3px 1px rgba(0, 0, 0, 0.15);\n",
              "      filter: drop-shadow(0px 1px 2px rgba(0, 0, 0, 0.3));\n",
              "      fill: #FFFFFF;\n",
              "    }\n",
              "  </style>\n",
              "\n",
              "    <script>\n",
              "      const buttonEl =\n",
              "        document.querySelector('#df-2c549d33-09a4-46b3-881b-b4e3e1e1b490 button.colab-df-convert');\n",
              "      buttonEl.style.display =\n",
              "        google.colab.kernel.accessAllowed ? 'block' : 'none';\n",
              "\n",
              "      async function convertToInteractive(key) {\n",
              "        const element = document.querySelector('#df-2c549d33-09a4-46b3-881b-b4e3e1e1b490');\n",
              "        const dataTable =\n",
              "          await google.colab.kernel.invokeFunction('convertToInteractive',\n",
              "                                                    [key], {});\n",
              "        if (!dataTable) return;\n",
              "\n",
              "        const docLinkHtml = 'Like what you see? Visit the ' +\n",
              "          '<a target=\"_blank\" href=https://colab.research.google.com/notebooks/data_table.ipynb>data table notebook</a>'\n",
              "          + ' to learn more about interactive tables.';\n",
              "        element.innerHTML = '';\n",
              "        dataTable['output_type'] = 'display_data';\n",
              "        await google.colab.output.renderOutput(dataTable, element);\n",
              "        const docLink = document.createElement('div');\n",
              "        docLink.innerHTML = docLinkHtml;\n",
              "        element.appendChild(docLink);\n",
              "      }\n",
              "    </script>\n",
              "  </div>\n",
              "\n",
              "\n",
              "<div id=\"df-4e07dc09-9028-4c8c-acbb-b07fa7fde08a\">\n",
              "  <button class=\"colab-df-quickchart\" onclick=\"quickchart('df-4e07dc09-9028-4c8c-acbb-b07fa7fde08a')\"\n",
              "            title=\"Suggest charts\"\n",
              "            style=\"display:none;\">\n",
              "\n",
              "<svg xmlns=\"http://www.w3.org/2000/svg\" height=\"24px\"viewBox=\"0 0 24 24\"\n",
              "     width=\"24px\">\n",
              "    <g>\n",
              "        <path d=\"M19 3H5c-1.1 0-2 .9-2 2v14c0 1.1.9 2 2 2h14c1.1 0 2-.9 2-2V5c0-1.1-.9-2-2-2zM9 17H7v-7h2v7zm4 0h-2V7h2v10zm4 0h-2v-4h2v4z\"/>\n",
              "    </g>\n",
              "</svg>\n",
              "  </button>\n",
              "\n",
              "<style>\n",
              "  .colab-df-quickchart {\n",
              "      --bg-color: #E8F0FE;\n",
              "      --fill-color: #1967D2;\n",
              "      --hover-bg-color: #E2EBFA;\n",
              "      --hover-fill-color: #174EA6;\n",
              "      --disabled-fill-color: #AAA;\n",
              "      --disabled-bg-color: #DDD;\n",
              "  }\n",
              "\n",
              "  [theme=dark] .colab-df-quickchart {\n",
              "      --bg-color: #3B4455;\n",
              "      --fill-color: #D2E3FC;\n",
              "      --hover-bg-color: #434B5C;\n",
              "      --hover-fill-color: #FFFFFF;\n",
              "      --disabled-bg-color: #3B4455;\n",
              "      --disabled-fill-color: #666;\n",
              "  }\n",
              "\n",
              "  .colab-df-quickchart {\n",
              "    background-color: var(--bg-color);\n",
              "    border: none;\n",
              "    border-radius: 50%;\n",
              "    cursor: pointer;\n",
              "    display: none;\n",
              "    fill: var(--fill-color);\n",
              "    height: 32px;\n",
              "    padding: 0;\n",
              "    width: 32px;\n",
              "  }\n",
              "\n",
              "  .colab-df-quickchart:hover {\n",
              "    background-color: var(--hover-bg-color);\n",
              "    box-shadow: 0 1px 2px rgba(60, 64, 67, 0.3), 0 1px 3px 1px rgba(60, 64, 67, 0.15);\n",
              "    fill: var(--button-hover-fill-color);\n",
              "  }\n",
              "\n",
              "  .colab-df-quickchart-complete:disabled,\n",
              "  .colab-df-quickchart-complete:disabled:hover {\n",
              "    background-color: var(--disabled-bg-color);\n",
              "    fill: var(--disabled-fill-color);\n",
              "    box-shadow: none;\n",
              "  }\n",
              "\n",
              "  .colab-df-spinner {\n",
              "    border: 2px solid var(--fill-color);\n",
              "    border-color: transparent;\n",
              "    border-bottom-color: var(--fill-color);\n",
              "    animation:\n",
              "      spin 1s steps(1) infinite;\n",
              "  }\n",
              "\n",
              "  @keyframes spin {\n",
              "    0% {\n",
              "      border-color: transparent;\n",
              "      border-bottom-color: var(--fill-color);\n",
              "      border-left-color: var(--fill-color);\n",
              "    }\n",
              "    20% {\n",
              "      border-color: transparent;\n",
              "      border-left-color: var(--fill-color);\n",
              "      border-top-color: var(--fill-color);\n",
              "    }\n",
              "    30% {\n",
              "      border-color: transparent;\n",
              "      border-left-color: var(--fill-color);\n",
              "      border-top-color: var(--fill-color);\n",
              "      border-right-color: var(--fill-color);\n",
              "    }\n",
              "    40% {\n",
              "      border-color: transparent;\n",
              "      border-right-color: var(--fill-color);\n",
              "      border-top-color: var(--fill-color);\n",
              "    }\n",
              "    60% {\n",
              "      border-color: transparent;\n",
              "      border-right-color: var(--fill-color);\n",
              "    }\n",
              "    80% {\n",
              "      border-color: transparent;\n",
              "      border-right-color: var(--fill-color);\n",
              "      border-bottom-color: var(--fill-color);\n",
              "    }\n",
              "    90% {\n",
              "      border-color: transparent;\n",
              "      border-bottom-color: var(--fill-color);\n",
              "    }\n",
              "  }\n",
              "</style>\n",
              "\n",
              "  <script>\n",
              "    async function quickchart(key) {\n",
              "      const quickchartButtonEl =\n",
              "        document.querySelector('#' + key + ' button');\n",
              "      quickchartButtonEl.disabled = true;  // To prevent multiple clicks.\n",
              "      quickchartButtonEl.classList.add('colab-df-spinner');\n",
              "      try {\n",
              "        const charts = await google.colab.kernel.invokeFunction(\n",
              "            'suggestCharts', [key], {});\n",
              "      } catch (error) {\n",
              "        console.error('Error during call to suggestCharts:', error);\n",
              "      }\n",
              "      quickchartButtonEl.classList.remove('colab-df-spinner');\n",
              "      quickchartButtonEl.classList.add('colab-df-quickchart-complete');\n",
              "    }\n",
              "    (() => {\n",
              "      let quickchartButtonEl =\n",
              "        document.querySelector('#df-4e07dc09-9028-4c8c-acbb-b07fa7fde08a button');\n",
              "      quickchartButtonEl.style.display =\n",
              "        google.colab.kernel.accessAllowed ? 'block' : 'none';\n",
              "    })();\n",
              "  </script>\n",
              "</div>\n",
              "    </div>\n",
              "  </div>\n"
            ],
            "application/vnd.google.colaboratory.intrinsic+json": {
              "type": "dataframe",
              "variable_name": "df",
              "summary": "{\n  \"name\": \"df\",\n  \"rows\": 14,\n  \"fields\": [\n    {\n      \"column\": \"Outlook\",\n      \"properties\": {\n        \"dtype\": \"category\",\n        \"num_unique_values\": 3,\n        \"samples\": [\n          \"Rainy\",\n          \"Overcast\",\n          \"Sunny\"\n        ],\n        \"semantic_type\": \"\",\n        \"description\": \"\"\n      }\n    },\n    {\n      \"column\": \"Temp\",\n      \"properties\": {\n        \"dtype\": \"category\",\n        \"num_unique_values\": 3,\n        \"samples\": [\n          \"Hot\",\n          \"Mild\",\n          \"Cool\"\n        ],\n        \"semantic_type\": \"\",\n        \"description\": \"\"\n      }\n    },\n    {\n      \"column\": \"Humidity\",\n      \"properties\": {\n        \"dtype\": \"category\",\n        \"num_unique_values\": 2,\n        \"samples\": [\n          \"Normal\",\n          \"High\"\n        ],\n        \"semantic_type\": \"\",\n        \"description\": \"\"\n      }\n    },\n    {\n      \"column\": \"Windy\",\n      \"properties\": {\n        \"dtype\": \"category\",\n        \"num_unique_values\": 2,\n        \"samples\": [\n          \"t\",\n          \"f\"\n        ],\n        \"semantic_type\": \"\",\n        \"description\": \"\"\n      }\n    },\n    {\n      \"column\": \"Play\",\n      \"properties\": {\n        \"dtype\": \"category\",\n        \"num_unique_values\": 2,\n        \"samples\": [\n          \"yes\",\n          \"no\"\n        ],\n        \"semantic_type\": \"\",\n        \"description\": \"\"\n      }\n    }\n  ]\n}"
            }
          },
          "metadata": {},
          "execution_count": 193
        }
      ]
    },
    {
      "cell_type": "code",
      "source": [
        "# Information\n",
        "df.info()"
      ],
      "metadata": {
        "colab": {
          "base_uri": "https://localhost:8080/"
        },
        "id": "VC6xNJpPvr6L",
        "outputId": "21f680ab-881e-4423-d5a1-fd78135cb8b9"
      },
      "execution_count": null,
      "outputs": [
        {
          "output_type": "stream",
          "name": "stdout",
          "text": [
            "<class 'pandas.core.frame.DataFrame'>\n",
            "RangeIndex: 14 entries, 0 to 13\n",
            "Data columns (total 5 columns):\n",
            " #   Column    Non-Null Count  Dtype \n",
            "---  ------    --------------  ----- \n",
            " 0   Outlook   14 non-null     object\n",
            " 1   Temp      14 non-null     object\n",
            " 2   Humidity  14 non-null     object\n",
            " 3   Windy     14 non-null     object\n",
            " 4   Play      14 non-null     object\n",
            "dtypes: object(5)\n",
            "memory usage: 688.0+ bytes\n"
          ]
        }
      ]
    },
    {
      "cell_type": "code",
      "source": [
        "# Description\n",
        "df.describe()"
      ],
      "metadata": {
        "colab": {
          "base_uri": "https://localhost:8080/",
          "height": 175
        },
        "id": "G8wfGuS6vvjf",
        "outputId": "0261faa7-27ba-4dc8-b344-8b0e2f17e55f"
      },
      "execution_count": null,
      "outputs": [
        {
          "output_type": "execute_result",
          "data": {
            "text/plain": [
              "       Outlook  Temp Humidity Windy Play\n",
              "count       14    14       14    14   14\n",
              "unique       3     3        2     2    2\n",
              "top      Rainy  Mild     High     f  yes\n",
              "freq         5     6        7     8    9"
            ],
            "text/html": [
              "\n",
              "  <div id=\"df-7df747b8-55a9-4b44-956a-f427fd801a19\" class=\"colab-df-container\">\n",
              "    <div>\n",
              "<style scoped>\n",
              "    .dataframe tbody tr th:only-of-type {\n",
              "        vertical-align: middle;\n",
              "    }\n",
              "\n",
              "    .dataframe tbody tr th {\n",
              "        vertical-align: top;\n",
              "    }\n",
              "\n",
              "    .dataframe thead th {\n",
              "        text-align: right;\n",
              "    }\n",
              "</style>\n",
              "<table border=\"1\" class=\"dataframe\">\n",
              "  <thead>\n",
              "    <tr style=\"text-align: right;\">\n",
              "      <th></th>\n",
              "      <th>Outlook</th>\n",
              "      <th>Temp</th>\n",
              "      <th>Humidity</th>\n",
              "      <th>Windy</th>\n",
              "      <th>Play</th>\n",
              "    </tr>\n",
              "  </thead>\n",
              "  <tbody>\n",
              "    <tr>\n",
              "      <th>count</th>\n",
              "      <td>14</td>\n",
              "      <td>14</td>\n",
              "      <td>14</td>\n",
              "      <td>14</td>\n",
              "      <td>14</td>\n",
              "    </tr>\n",
              "    <tr>\n",
              "      <th>unique</th>\n",
              "      <td>3</td>\n",
              "      <td>3</td>\n",
              "      <td>2</td>\n",
              "      <td>2</td>\n",
              "      <td>2</td>\n",
              "    </tr>\n",
              "    <tr>\n",
              "      <th>top</th>\n",
              "      <td>Rainy</td>\n",
              "      <td>Mild</td>\n",
              "      <td>High</td>\n",
              "      <td>f</td>\n",
              "      <td>yes</td>\n",
              "    </tr>\n",
              "    <tr>\n",
              "      <th>freq</th>\n",
              "      <td>5</td>\n",
              "      <td>6</td>\n",
              "      <td>7</td>\n",
              "      <td>8</td>\n",
              "      <td>9</td>\n",
              "    </tr>\n",
              "  </tbody>\n",
              "</table>\n",
              "</div>\n",
              "    <div class=\"colab-df-buttons\">\n",
              "\n",
              "  <div class=\"colab-df-container\">\n",
              "    <button class=\"colab-df-convert\" onclick=\"convertToInteractive('df-7df747b8-55a9-4b44-956a-f427fd801a19')\"\n",
              "            title=\"Convert this dataframe to an interactive table.\"\n",
              "            style=\"display:none;\">\n",
              "\n",
              "  <svg xmlns=\"http://www.w3.org/2000/svg\" height=\"24px\" viewBox=\"0 -960 960 960\">\n",
              "    <path d=\"M120-120v-720h720v720H120Zm60-500h600v-160H180v160Zm220 220h160v-160H400v160Zm0 220h160v-160H400v160ZM180-400h160v-160H180v160Zm440 0h160v-160H620v160ZM180-180h160v-160H180v160Zm440 0h160v-160H620v160Z\"/>\n",
              "  </svg>\n",
              "    </button>\n",
              "\n",
              "  <style>\n",
              "    .colab-df-container {\n",
              "      display:flex;\n",
              "      gap: 12px;\n",
              "    }\n",
              "\n",
              "    .colab-df-convert {\n",
              "      background-color: #E8F0FE;\n",
              "      border: none;\n",
              "      border-radius: 50%;\n",
              "      cursor: pointer;\n",
              "      display: none;\n",
              "      fill: #1967D2;\n",
              "      height: 32px;\n",
              "      padding: 0 0 0 0;\n",
              "      width: 32px;\n",
              "    }\n",
              "\n",
              "    .colab-df-convert:hover {\n",
              "      background-color: #E2EBFA;\n",
              "      box-shadow: 0px 1px 2px rgba(60, 64, 67, 0.3), 0px 1px 3px 1px rgba(60, 64, 67, 0.15);\n",
              "      fill: #174EA6;\n",
              "    }\n",
              "\n",
              "    .colab-df-buttons div {\n",
              "      margin-bottom: 4px;\n",
              "    }\n",
              "\n",
              "    [theme=dark] .colab-df-convert {\n",
              "      background-color: #3B4455;\n",
              "      fill: #D2E3FC;\n",
              "    }\n",
              "\n",
              "    [theme=dark] .colab-df-convert:hover {\n",
              "      background-color: #434B5C;\n",
              "      box-shadow: 0px 1px 3px 1px rgba(0, 0, 0, 0.15);\n",
              "      filter: drop-shadow(0px 1px 2px rgba(0, 0, 0, 0.3));\n",
              "      fill: #FFFFFF;\n",
              "    }\n",
              "  </style>\n",
              "\n",
              "    <script>\n",
              "      const buttonEl =\n",
              "        document.querySelector('#df-7df747b8-55a9-4b44-956a-f427fd801a19 button.colab-df-convert');\n",
              "      buttonEl.style.display =\n",
              "        google.colab.kernel.accessAllowed ? 'block' : 'none';\n",
              "\n",
              "      async function convertToInteractive(key) {\n",
              "        const element = document.querySelector('#df-7df747b8-55a9-4b44-956a-f427fd801a19');\n",
              "        const dataTable =\n",
              "          await google.colab.kernel.invokeFunction('convertToInteractive',\n",
              "                                                    [key], {});\n",
              "        if (!dataTable) return;\n",
              "\n",
              "        const docLinkHtml = 'Like what you see? Visit the ' +\n",
              "          '<a target=\"_blank\" href=https://colab.research.google.com/notebooks/data_table.ipynb>data table notebook</a>'\n",
              "          + ' to learn more about interactive tables.';\n",
              "        element.innerHTML = '';\n",
              "        dataTable['output_type'] = 'display_data';\n",
              "        await google.colab.output.renderOutput(dataTable, element);\n",
              "        const docLink = document.createElement('div');\n",
              "        docLink.innerHTML = docLinkHtml;\n",
              "        element.appendChild(docLink);\n",
              "      }\n",
              "    </script>\n",
              "  </div>\n",
              "\n",
              "\n",
              "<div id=\"df-d44dc610-b4ae-466b-9423-50467c133727\">\n",
              "  <button class=\"colab-df-quickchart\" onclick=\"quickchart('df-d44dc610-b4ae-466b-9423-50467c133727')\"\n",
              "            title=\"Suggest charts\"\n",
              "            style=\"display:none;\">\n",
              "\n",
              "<svg xmlns=\"http://www.w3.org/2000/svg\" height=\"24px\"viewBox=\"0 0 24 24\"\n",
              "     width=\"24px\">\n",
              "    <g>\n",
              "        <path d=\"M19 3H5c-1.1 0-2 .9-2 2v14c0 1.1.9 2 2 2h14c1.1 0 2-.9 2-2V5c0-1.1-.9-2-2-2zM9 17H7v-7h2v7zm4 0h-2V7h2v10zm4 0h-2v-4h2v4z\"/>\n",
              "    </g>\n",
              "</svg>\n",
              "  </button>\n",
              "\n",
              "<style>\n",
              "  .colab-df-quickchart {\n",
              "      --bg-color: #E8F0FE;\n",
              "      --fill-color: #1967D2;\n",
              "      --hover-bg-color: #E2EBFA;\n",
              "      --hover-fill-color: #174EA6;\n",
              "      --disabled-fill-color: #AAA;\n",
              "      --disabled-bg-color: #DDD;\n",
              "  }\n",
              "\n",
              "  [theme=dark] .colab-df-quickchart {\n",
              "      --bg-color: #3B4455;\n",
              "      --fill-color: #D2E3FC;\n",
              "      --hover-bg-color: #434B5C;\n",
              "      --hover-fill-color: #FFFFFF;\n",
              "      --disabled-bg-color: #3B4455;\n",
              "      --disabled-fill-color: #666;\n",
              "  }\n",
              "\n",
              "  .colab-df-quickchart {\n",
              "    background-color: var(--bg-color);\n",
              "    border: none;\n",
              "    border-radius: 50%;\n",
              "    cursor: pointer;\n",
              "    display: none;\n",
              "    fill: var(--fill-color);\n",
              "    height: 32px;\n",
              "    padding: 0;\n",
              "    width: 32px;\n",
              "  }\n",
              "\n",
              "  .colab-df-quickchart:hover {\n",
              "    background-color: var(--hover-bg-color);\n",
              "    box-shadow: 0 1px 2px rgba(60, 64, 67, 0.3), 0 1px 3px 1px rgba(60, 64, 67, 0.15);\n",
              "    fill: var(--button-hover-fill-color);\n",
              "  }\n",
              "\n",
              "  .colab-df-quickchart-complete:disabled,\n",
              "  .colab-df-quickchart-complete:disabled:hover {\n",
              "    background-color: var(--disabled-bg-color);\n",
              "    fill: var(--disabled-fill-color);\n",
              "    box-shadow: none;\n",
              "  }\n",
              "\n",
              "  .colab-df-spinner {\n",
              "    border: 2px solid var(--fill-color);\n",
              "    border-color: transparent;\n",
              "    border-bottom-color: var(--fill-color);\n",
              "    animation:\n",
              "      spin 1s steps(1) infinite;\n",
              "  }\n",
              "\n",
              "  @keyframes spin {\n",
              "    0% {\n",
              "      border-color: transparent;\n",
              "      border-bottom-color: var(--fill-color);\n",
              "      border-left-color: var(--fill-color);\n",
              "    }\n",
              "    20% {\n",
              "      border-color: transparent;\n",
              "      border-left-color: var(--fill-color);\n",
              "      border-top-color: var(--fill-color);\n",
              "    }\n",
              "    30% {\n",
              "      border-color: transparent;\n",
              "      border-left-color: var(--fill-color);\n",
              "      border-top-color: var(--fill-color);\n",
              "      border-right-color: var(--fill-color);\n",
              "    }\n",
              "    40% {\n",
              "      border-color: transparent;\n",
              "      border-right-color: var(--fill-color);\n",
              "      border-top-color: var(--fill-color);\n",
              "    }\n",
              "    60% {\n",
              "      border-color: transparent;\n",
              "      border-right-color: var(--fill-color);\n",
              "    }\n",
              "    80% {\n",
              "      border-color: transparent;\n",
              "      border-right-color: var(--fill-color);\n",
              "      border-bottom-color: var(--fill-color);\n",
              "    }\n",
              "    90% {\n",
              "      border-color: transparent;\n",
              "      border-bottom-color: var(--fill-color);\n",
              "    }\n",
              "  }\n",
              "</style>\n",
              "\n",
              "  <script>\n",
              "    async function quickchart(key) {\n",
              "      const quickchartButtonEl =\n",
              "        document.querySelector('#' + key + ' button');\n",
              "      quickchartButtonEl.disabled = true;  // To prevent multiple clicks.\n",
              "      quickchartButtonEl.classList.add('colab-df-spinner');\n",
              "      try {\n",
              "        const charts = await google.colab.kernel.invokeFunction(\n",
              "            'suggestCharts', [key], {});\n",
              "      } catch (error) {\n",
              "        console.error('Error during call to suggestCharts:', error);\n",
              "      }\n",
              "      quickchartButtonEl.classList.remove('colab-df-spinner');\n",
              "      quickchartButtonEl.classList.add('colab-df-quickchart-complete');\n",
              "    }\n",
              "    (() => {\n",
              "      let quickchartButtonEl =\n",
              "        document.querySelector('#df-d44dc610-b4ae-466b-9423-50467c133727 button');\n",
              "      quickchartButtonEl.style.display =\n",
              "        google.colab.kernel.accessAllowed ? 'block' : 'none';\n",
              "    })();\n",
              "  </script>\n",
              "</div>\n",
              "    </div>\n",
              "  </div>\n"
            ],
            "application/vnd.google.colaboratory.intrinsic+json": {
              "type": "dataframe",
              "summary": "{\n  \"name\": \"df\",\n  \"rows\": 4,\n  \"fields\": [\n    {\n      \"column\": \"Outlook\",\n      \"properties\": {\n        \"dtype\": \"string\",\n        \"num_unique_values\": 4,\n        \"samples\": [\n          3,\n          \"5\",\n          \"14\"\n        ],\n        \"semantic_type\": \"\",\n        \"description\": \"\"\n      }\n    },\n    {\n      \"column\": \"Temp\",\n      \"properties\": {\n        \"dtype\": \"string\",\n        \"num_unique_values\": 4,\n        \"samples\": [\n          3,\n          \"6\",\n          \"14\"\n        ],\n        \"semantic_type\": \"\",\n        \"description\": \"\"\n      }\n    },\n    {\n      \"column\": \"Humidity\",\n      \"properties\": {\n        \"dtype\": \"string\",\n        \"num_unique_values\": 4,\n        \"samples\": [\n          2,\n          \"7\",\n          \"14\"\n        ],\n        \"semantic_type\": \"\",\n        \"description\": \"\"\n      }\n    },\n    {\n      \"column\": \"Windy\",\n      \"properties\": {\n        \"dtype\": \"string\",\n        \"num_unique_values\": 4,\n        \"samples\": [\n          2,\n          \"8\",\n          \"14\"\n        ],\n        \"semantic_type\": \"\",\n        \"description\": \"\"\n      }\n    },\n    {\n      \"column\": \"Play\",\n      \"properties\": {\n        \"dtype\": \"string\",\n        \"num_unique_values\": 4,\n        \"samples\": [\n          2,\n          \"9\",\n          \"14\"\n        ],\n        \"semantic_type\": \"\",\n        \"description\": \"\"\n      }\n    }\n  ]\n}"
            }
          },
          "metadata": {},
          "execution_count": 195
        }
      ]
    },
    {
      "cell_type": "code",
      "source": [
        "# Amount of missing data\n",
        "print(\"Percentage of missing values:\")\n",
        "print(((df.isna().sum()) / df.shape[0]) * 100)"
      ],
      "metadata": {
        "colab": {
          "base_uri": "https://localhost:8080/"
        },
        "id": "w6uWHUN8vwrQ",
        "outputId": "ef96ad7e-5468-425e-8bd4-447607b73a03"
      },
      "execution_count": null,
      "outputs": [
        {
          "output_type": "stream",
          "name": "stdout",
          "text": [
            "Percentage of missing values:\n",
            "Outlook     0.0\n",
            "Temp        0.0\n",
            "Humidity    0.0\n",
            "Windy       0.0\n",
            "Play        0.0\n",
            "dtype: float64\n"
          ]
        }
      ]
    },
    {
      "cell_type": "code",
      "source": [
        "# Getting target and features\n",
        "X = df.drop('Play', axis=1)\n",
        "y = df['Play']"
      ],
      "metadata": {
        "id": "o4eQCmDLxC74"
      },
      "execution_count": null,
      "outputs": []
    },
    {
      "cell_type": "code",
      "source": [
        "from sklearn.preprocessing import LabelEncoder\n",
        "\n",
        "# Initialize LabelEncoder\n",
        "label_encoder = LabelEncoder()\n",
        "\n",
        "# Apply LabelEncoder to each categorical column\n",
        "X['Outlook'] = label_encoder.fit_transform(df['Outlook'])\n",
        "X['Temp'] = label_encoder.fit_transform(df['Temp'])\n",
        "X['Humidity'] = label_encoder.fit_transform(df['Humidity'])\n",
        "X['Windy'] = label_encoder.fit_transform(df['Windy'])"
      ],
      "metadata": {
        "id": "EJ5QkjTiyAuH"
      },
      "execution_count": null,
      "outputs": []
    },
    {
      "cell_type": "code",
      "source": [
        "# Checking\n",
        "X"
      ],
      "metadata": {
        "colab": {
          "base_uri": "https://localhost:8080/",
          "height": 488
        },
        "id": "r1pUdOK91Tuc",
        "outputId": "5560323a-d90b-4481-fd57-9e0955eadd91"
      },
      "execution_count": null,
      "outputs": [
        {
          "output_type": "execute_result",
          "data": {
            "text/plain": [
              "    Outlook  Temp  Humidity  Windy\n",
              "0         1     1         0      0\n",
              "1         1     1         0      1\n",
              "2         0     1         0      0\n",
              "3         2     2         0      0\n",
              "4         2     0         1      0\n",
              "5         2     0         1      1\n",
              "6         0     0         1      1\n",
              "7         1     2         0      0\n",
              "8         1     0         1      0\n",
              "9         2     2         1      0\n",
              "10        1     2         1      1\n",
              "11        0     2         0      1\n",
              "12        0     1         1      0\n",
              "13        2     2         0      1"
            ],
            "text/html": [
              "\n",
              "  <div id=\"df-aa89ad43-cb56-4e26-ae89-9eb0be31add5\" class=\"colab-df-container\">\n",
              "    <div>\n",
              "<style scoped>\n",
              "    .dataframe tbody tr th:only-of-type {\n",
              "        vertical-align: middle;\n",
              "    }\n",
              "\n",
              "    .dataframe tbody tr th {\n",
              "        vertical-align: top;\n",
              "    }\n",
              "\n",
              "    .dataframe thead th {\n",
              "        text-align: right;\n",
              "    }\n",
              "</style>\n",
              "<table border=\"1\" class=\"dataframe\">\n",
              "  <thead>\n",
              "    <tr style=\"text-align: right;\">\n",
              "      <th></th>\n",
              "      <th>Outlook</th>\n",
              "      <th>Temp</th>\n",
              "      <th>Humidity</th>\n",
              "      <th>Windy</th>\n",
              "    </tr>\n",
              "  </thead>\n",
              "  <tbody>\n",
              "    <tr>\n",
              "      <th>0</th>\n",
              "      <td>1</td>\n",
              "      <td>1</td>\n",
              "      <td>0</td>\n",
              "      <td>0</td>\n",
              "    </tr>\n",
              "    <tr>\n",
              "      <th>1</th>\n",
              "      <td>1</td>\n",
              "      <td>1</td>\n",
              "      <td>0</td>\n",
              "      <td>1</td>\n",
              "    </tr>\n",
              "    <tr>\n",
              "      <th>2</th>\n",
              "      <td>0</td>\n",
              "      <td>1</td>\n",
              "      <td>0</td>\n",
              "      <td>0</td>\n",
              "    </tr>\n",
              "    <tr>\n",
              "      <th>3</th>\n",
              "      <td>2</td>\n",
              "      <td>2</td>\n",
              "      <td>0</td>\n",
              "      <td>0</td>\n",
              "    </tr>\n",
              "    <tr>\n",
              "      <th>4</th>\n",
              "      <td>2</td>\n",
              "      <td>0</td>\n",
              "      <td>1</td>\n",
              "      <td>0</td>\n",
              "    </tr>\n",
              "    <tr>\n",
              "      <th>5</th>\n",
              "      <td>2</td>\n",
              "      <td>0</td>\n",
              "      <td>1</td>\n",
              "      <td>1</td>\n",
              "    </tr>\n",
              "    <tr>\n",
              "      <th>6</th>\n",
              "      <td>0</td>\n",
              "      <td>0</td>\n",
              "      <td>1</td>\n",
              "      <td>1</td>\n",
              "    </tr>\n",
              "    <tr>\n",
              "      <th>7</th>\n",
              "      <td>1</td>\n",
              "      <td>2</td>\n",
              "      <td>0</td>\n",
              "      <td>0</td>\n",
              "    </tr>\n",
              "    <tr>\n",
              "      <th>8</th>\n",
              "      <td>1</td>\n",
              "      <td>0</td>\n",
              "      <td>1</td>\n",
              "      <td>0</td>\n",
              "    </tr>\n",
              "    <tr>\n",
              "      <th>9</th>\n",
              "      <td>2</td>\n",
              "      <td>2</td>\n",
              "      <td>1</td>\n",
              "      <td>0</td>\n",
              "    </tr>\n",
              "    <tr>\n",
              "      <th>10</th>\n",
              "      <td>1</td>\n",
              "      <td>2</td>\n",
              "      <td>1</td>\n",
              "      <td>1</td>\n",
              "    </tr>\n",
              "    <tr>\n",
              "      <th>11</th>\n",
              "      <td>0</td>\n",
              "      <td>2</td>\n",
              "      <td>0</td>\n",
              "      <td>1</td>\n",
              "    </tr>\n",
              "    <tr>\n",
              "      <th>12</th>\n",
              "      <td>0</td>\n",
              "      <td>1</td>\n",
              "      <td>1</td>\n",
              "      <td>0</td>\n",
              "    </tr>\n",
              "    <tr>\n",
              "      <th>13</th>\n",
              "      <td>2</td>\n",
              "      <td>2</td>\n",
              "      <td>0</td>\n",
              "      <td>1</td>\n",
              "    </tr>\n",
              "  </tbody>\n",
              "</table>\n",
              "</div>\n",
              "    <div class=\"colab-df-buttons\">\n",
              "\n",
              "  <div class=\"colab-df-container\">\n",
              "    <button class=\"colab-df-convert\" onclick=\"convertToInteractive('df-aa89ad43-cb56-4e26-ae89-9eb0be31add5')\"\n",
              "            title=\"Convert this dataframe to an interactive table.\"\n",
              "            style=\"display:none;\">\n",
              "\n",
              "  <svg xmlns=\"http://www.w3.org/2000/svg\" height=\"24px\" viewBox=\"0 -960 960 960\">\n",
              "    <path d=\"M120-120v-720h720v720H120Zm60-500h600v-160H180v160Zm220 220h160v-160H400v160Zm0 220h160v-160H400v160ZM180-400h160v-160H180v160Zm440 0h160v-160H620v160ZM180-180h160v-160H180v160Zm440 0h160v-160H620v160Z\"/>\n",
              "  </svg>\n",
              "    </button>\n",
              "\n",
              "  <style>\n",
              "    .colab-df-container {\n",
              "      display:flex;\n",
              "      gap: 12px;\n",
              "    }\n",
              "\n",
              "    .colab-df-convert {\n",
              "      background-color: #E8F0FE;\n",
              "      border: none;\n",
              "      border-radius: 50%;\n",
              "      cursor: pointer;\n",
              "      display: none;\n",
              "      fill: #1967D2;\n",
              "      height: 32px;\n",
              "      padding: 0 0 0 0;\n",
              "      width: 32px;\n",
              "    }\n",
              "\n",
              "    .colab-df-convert:hover {\n",
              "      background-color: #E2EBFA;\n",
              "      box-shadow: 0px 1px 2px rgba(60, 64, 67, 0.3), 0px 1px 3px 1px rgba(60, 64, 67, 0.15);\n",
              "      fill: #174EA6;\n",
              "    }\n",
              "\n",
              "    .colab-df-buttons div {\n",
              "      margin-bottom: 4px;\n",
              "    }\n",
              "\n",
              "    [theme=dark] .colab-df-convert {\n",
              "      background-color: #3B4455;\n",
              "      fill: #D2E3FC;\n",
              "    }\n",
              "\n",
              "    [theme=dark] .colab-df-convert:hover {\n",
              "      background-color: #434B5C;\n",
              "      box-shadow: 0px 1px 3px 1px rgba(0, 0, 0, 0.15);\n",
              "      filter: drop-shadow(0px 1px 2px rgba(0, 0, 0, 0.3));\n",
              "      fill: #FFFFFF;\n",
              "    }\n",
              "  </style>\n",
              "\n",
              "    <script>\n",
              "      const buttonEl =\n",
              "        document.querySelector('#df-aa89ad43-cb56-4e26-ae89-9eb0be31add5 button.colab-df-convert');\n",
              "      buttonEl.style.display =\n",
              "        google.colab.kernel.accessAllowed ? 'block' : 'none';\n",
              "\n",
              "      async function convertToInteractive(key) {\n",
              "        const element = document.querySelector('#df-aa89ad43-cb56-4e26-ae89-9eb0be31add5');\n",
              "        const dataTable =\n",
              "          await google.colab.kernel.invokeFunction('convertToInteractive',\n",
              "                                                    [key], {});\n",
              "        if (!dataTable) return;\n",
              "\n",
              "        const docLinkHtml = 'Like what you see? Visit the ' +\n",
              "          '<a target=\"_blank\" href=https://colab.research.google.com/notebooks/data_table.ipynb>data table notebook</a>'\n",
              "          + ' to learn more about interactive tables.';\n",
              "        element.innerHTML = '';\n",
              "        dataTable['output_type'] = 'display_data';\n",
              "        await google.colab.output.renderOutput(dataTable, element);\n",
              "        const docLink = document.createElement('div');\n",
              "        docLink.innerHTML = docLinkHtml;\n",
              "        element.appendChild(docLink);\n",
              "      }\n",
              "    </script>\n",
              "  </div>\n",
              "\n",
              "\n",
              "<div id=\"df-0166af41-f148-4650-bf12-9384b52945b1\">\n",
              "  <button class=\"colab-df-quickchart\" onclick=\"quickchart('df-0166af41-f148-4650-bf12-9384b52945b1')\"\n",
              "            title=\"Suggest charts\"\n",
              "            style=\"display:none;\">\n",
              "\n",
              "<svg xmlns=\"http://www.w3.org/2000/svg\" height=\"24px\"viewBox=\"0 0 24 24\"\n",
              "     width=\"24px\">\n",
              "    <g>\n",
              "        <path d=\"M19 3H5c-1.1 0-2 .9-2 2v14c0 1.1.9 2 2 2h14c1.1 0 2-.9 2-2V5c0-1.1-.9-2-2-2zM9 17H7v-7h2v7zm4 0h-2V7h2v10zm4 0h-2v-4h2v4z\"/>\n",
              "    </g>\n",
              "</svg>\n",
              "  </button>\n",
              "\n",
              "<style>\n",
              "  .colab-df-quickchart {\n",
              "      --bg-color: #E8F0FE;\n",
              "      --fill-color: #1967D2;\n",
              "      --hover-bg-color: #E2EBFA;\n",
              "      --hover-fill-color: #174EA6;\n",
              "      --disabled-fill-color: #AAA;\n",
              "      --disabled-bg-color: #DDD;\n",
              "  }\n",
              "\n",
              "  [theme=dark] .colab-df-quickchart {\n",
              "      --bg-color: #3B4455;\n",
              "      --fill-color: #D2E3FC;\n",
              "      --hover-bg-color: #434B5C;\n",
              "      --hover-fill-color: #FFFFFF;\n",
              "      --disabled-bg-color: #3B4455;\n",
              "      --disabled-fill-color: #666;\n",
              "  }\n",
              "\n",
              "  .colab-df-quickchart {\n",
              "    background-color: var(--bg-color);\n",
              "    border: none;\n",
              "    border-radius: 50%;\n",
              "    cursor: pointer;\n",
              "    display: none;\n",
              "    fill: var(--fill-color);\n",
              "    height: 32px;\n",
              "    padding: 0;\n",
              "    width: 32px;\n",
              "  }\n",
              "\n",
              "  .colab-df-quickchart:hover {\n",
              "    background-color: var(--hover-bg-color);\n",
              "    box-shadow: 0 1px 2px rgba(60, 64, 67, 0.3), 0 1px 3px 1px rgba(60, 64, 67, 0.15);\n",
              "    fill: var(--button-hover-fill-color);\n",
              "  }\n",
              "\n",
              "  .colab-df-quickchart-complete:disabled,\n",
              "  .colab-df-quickchart-complete:disabled:hover {\n",
              "    background-color: var(--disabled-bg-color);\n",
              "    fill: var(--disabled-fill-color);\n",
              "    box-shadow: none;\n",
              "  }\n",
              "\n",
              "  .colab-df-spinner {\n",
              "    border: 2px solid var(--fill-color);\n",
              "    border-color: transparent;\n",
              "    border-bottom-color: var(--fill-color);\n",
              "    animation:\n",
              "      spin 1s steps(1) infinite;\n",
              "  }\n",
              "\n",
              "  @keyframes spin {\n",
              "    0% {\n",
              "      border-color: transparent;\n",
              "      border-bottom-color: var(--fill-color);\n",
              "      border-left-color: var(--fill-color);\n",
              "    }\n",
              "    20% {\n",
              "      border-color: transparent;\n",
              "      border-left-color: var(--fill-color);\n",
              "      border-top-color: var(--fill-color);\n",
              "    }\n",
              "    30% {\n",
              "      border-color: transparent;\n",
              "      border-left-color: var(--fill-color);\n",
              "      border-top-color: var(--fill-color);\n",
              "      border-right-color: var(--fill-color);\n",
              "    }\n",
              "    40% {\n",
              "      border-color: transparent;\n",
              "      border-right-color: var(--fill-color);\n",
              "      border-top-color: var(--fill-color);\n",
              "    }\n",
              "    60% {\n",
              "      border-color: transparent;\n",
              "      border-right-color: var(--fill-color);\n",
              "    }\n",
              "    80% {\n",
              "      border-color: transparent;\n",
              "      border-right-color: var(--fill-color);\n",
              "      border-bottom-color: var(--fill-color);\n",
              "    }\n",
              "    90% {\n",
              "      border-color: transparent;\n",
              "      border-bottom-color: var(--fill-color);\n",
              "    }\n",
              "  }\n",
              "</style>\n",
              "\n",
              "  <script>\n",
              "    async function quickchart(key) {\n",
              "      const quickchartButtonEl =\n",
              "        document.querySelector('#' + key + ' button');\n",
              "      quickchartButtonEl.disabled = true;  // To prevent multiple clicks.\n",
              "      quickchartButtonEl.classList.add('colab-df-spinner');\n",
              "      try {\n",
              "        const charts = await google.colab.kernel.invokeFunction(\n",
              "            'suggestCharts', [key], {});\n",
              "      } catch (error) {\n",
              "        console.error('Error during call to suggestCharts:', error);\n",
              "      }\n",
              "      quickchartButtonEl.classList.remove('colab-df-spinner');\n",
              "      quickchartButtonEl.classList.add('colab-df-quickchart-complete');\n",
              "    }\n",
              "    (() => {\n",
              "      let quickchartButtonEl =\n",
              "        document.querySelector('#df-0166af41-f148-4650-bf12-9384b52945b1 button');\n",
              "      quickchartButtonEl.style.display =\n",
              "        google.colab.kernel.accessAllowed ? 'block' : 'none';\n",
              "    })();\n",
              "  </script>\n",
              "</div>\n",
              "    </div>\n",
              "  </div>\n"
            ],
            "application/vnd.google.colaboratory.intrinsic+json": {
              "type": "dataframe",
              "variable_name": "X",
              "summary": "{\n  \"name\": \"X\",\n  \"rows\": 14,\n  \"fields\": [\n    {\n      \"column\": \"Outlook\",\n      \"properties\": {\n        \"dtype\": \"number\",\n        \"std\": 0,\n        \"min\": 0,\n        \"max\": 2,\n        \"num_unique_values\": 3,\n        \"samples\": [\n          1,\n          0,\n          2\n        ],\n        \"semantic_type\": \"\",\n        \"description\": \"\"\n      }\n    },\n    {\n      \"column\": \"Temp\",\n      \"properties\": {\n        \"dtype\": \"number\",\n        \"std\": 0,\n        \"min\": 0,\n        \"max\": 2,\n        \"num_unique_values\": 3,\n        \"samples\": [\n          1,\n          2,\n          0\n        ],\n        \"semantic_type\": \"\",\n        \"description\": \"\"\n      }\n    },\n    {\n      \"column\": \"Humidity\",\n      \"properties\": {\n        \"dtype\": \"number\",\n        \"std\": 0,\n        \"min\": 0,\n        \"max\": 1,\n        \"num_unique_values\": 2,\n        \"samples\": [\n          1,\n          0\n        ],\n        \"semantic_type\": \"\",\n        \"description\": \"\"\n      }\n    },\n    {\n      \"column\": \"Windy\",\n      \"properties\": {\n        \"dtype\": \"number\",\n        \"std\": 0,\n        \"min\": 0,\n        \"max\": 1,\n        \"num_unique_values\": 2,\n        \"samples\": [\n          1,\n          0\n        ],\n        \"semantic_type\": \"\",\n        \"description\": \"\"\n      }\n    }\n  ]\n}"
            }
          },
          "metadata": {},
          "execution_count": 199
        }
      ]
    },
    {
      "cell_type": "code",
      "source": [
        "# Data Distribution Plots\n",
        "def plot_data_distribution(df):\n",
        "    plt.figure(figsize=(12, 8))\n",
        "    for i in range(len(X.columns)):\n",
        "        plt.subplot(2, 2, i + 1)\n",
        "        sns.histplot(df[df.columns[i]])\n",
        "        plt.title(df.columns[i] + ' Distribution')\n",
        "    plt.tight_layout()\n",
        "    plt.show()\n",
        "\n",
        "plot_data_distribution(df)"
      ],
      "metadata": {
        "colab": {
          "base_uri": "https://localhost:8080/",
          "height": 807
        },
        "id": "9NAsMP-bjtXC",
        "outputId": "a5aa1537-535a-4ead-c8f4-b48421249dc0"
      },
      "execution_count": null,
      "outputs": [
        {
          "output_type": "display_data",
          "data": {
            "text/plain": [
              "<Figure size 1200x800 with 4 Axes>"
            ],
            "image/png": "[encoded data removed]"
          },
          "metadata": {}
        }
      ]
    },
    {
      "cell_type": "markdown",
      "source": [
        "## TASK 0"
      ],
      "metadata": {
        "id": "wxcPeqSQw188"
      }
    },
    {
      "cell_type": "code",
      "source": [
        "# train-test Splitting\n",
        "X_train, X_test, y_train, y_test = train_test_split(X, y, test_size = 0.14,\n",
        "                                                      random_state = 42)"
      ],
      "metadata": {
        "id": "AC-yP8iGw55_"
      },
      "execution_count": null,
      "outputs": []
    },
    {
      "cell_type": "code",
      "source": [
        "# Checking\n",
        "print(len(X_train), len(X_test))"
      ],
      "metadata": {
        "colab": {
          "base_uri": "https://localhost:8080/"
        },
        "id": "XiCOy2Ws2QeA",
        "outputId": "824424a1-499f-4e3a-c77a-90be7f56637f"
      },
      "execution_count": null,
      "outputs": [
        {
          "output_type": "stream",
          "name": "stdout",
          "text": [
            "12 2\n"
          ]
        }
      ]
    },
    {
      "cell_type": "markdown",
      "source": [
        "## TASK 1"
      ],
      "metadata": {
        "id": "ayE9yJlw2qUo"
      }
    },
    {
      "cell_type": "code",
      "source": [
        "# Calculation of prior probabilities\n",
        "yes = 0\n",
        "no = 0\n",
        "for i in y_train:\n",
        "  if i == 'yes':\n",
        "    yes += 1\n",
        "  else:\n",
        "    no += 1\n",
        "\n",
        "p_yes = yes / (yes + no)\n",
        "p_no = no / (yes + no)"
      ],
      "metadata": {
        "id": "BX2MVo082ZaU"
      },
      "execution_count": null,
      "outputs": []
    },
    {
      "cell_type": "code",
      "source": [
        "plt.figure(figsize = (8, 6))\n",
        "outcomes = ['yes', 'no']\n",
        "probabilities = [p_yes, p_no]\n",
        "\n",
        "sns.barplot(x = outcomes, y = probabilities, palette='pastel')\n",
        "plt.title('Prior Probabilities', fontsize = 16)\n",
        "plt.xlabel('Outcome', fontsize = 12)\n",
        "plt.ylabel('Probability', fontsize = 12)\n",
        "\n",
        "# Adding probability values on top of bars\n",
        "for i in range(len(outcomes)):\n",
        "    plt.text(i, probabilities[i] + 0.01, f\"{probabilities[i]:.2f}\",\n",
        "             ha = 'center', fontsize = 10)\n",
        "\n",
        "plt.ylim(0, 1)  # Setting y-axis limits\n",
        "plt.show()"
      ],
      "metadata": {
        "colab": {
          "base_uri": "https://localhost:8080/"
        },
        "id": "2UI3FRw3oPO5",
        "outputId": "fd2fc3b8-5f6f-45ae-a163-6c40327f9aa3"
      },
      "execution_count": null,
      "outputs": [
        {
          "output_type": "display_data",
          "data": {
            "text/plain": [
              "<Figure size 800x600 with 1 Axes>"
            ],
            "image/png": "[encoded data removed]"
          },
          "metadata": {}
        }
      ]
    },
    {
      "cell_type": "markdown",
      "source": [
        "## TASK 2"
      ],
      "metadata": {
        "id": "64g-8qXJ2F4X"
      }
    },
    {
      "cell_type": "code",
      "source": [
        "# For this task I will first split the dataframe\n",
        "# into two the yes one and the no one\n",
        "yep = []\n",
        "nah = []\n",
        "for i in range(len(y_train)):\n",
        "  if y_train.iloc[i] == 'yes':\n",
        "    yep.append(i)\n",
        "  else:\n",
        "    nah.append(i)\n",
        "\n",
        "X_yes = X_train.iloc[yep]\n",
        "X_no = X_train.iloc[nah]"
      ],
      "metadata": {
        "id": "qm0yv3ZO4OYr"
      },
      "execution_count": null,
      "outputs": []
    },
    {
      "cell_type": "code",
      "source": [
        "likelihood_yes = []"
      ],
      "metadata": {
        "id": "Kpuyr1Qk8ASp"
      },
      "execution_count": null,
      "outputs": []
    },
    {
      "cell_type": "code",
      "source": [
        "# Making individual list for each column\n",
        "# then append it to likelihood\n",
        "for col in X_yes.columns:\n",
        "  diff_values = X[col].unique()\n",
        "  li = [0] * len(diff_values)\n",
        "  for val in X_yes[col]:\n",
        "    li[val] += 1\n",
        "  li = [x / len(X_yes[col]) for x in li]\n",
        "  likelihood_yes.append(li)"
      ],
      "metadata": {
        "id": "HecpjMry6Zid"
      },
      "execution_count": null,
      "outputs": []
    },
    {
      "cell_type": "code",
      "source": [
        "likelihood_no = []"
      ],
      "metadata": {
        "id": "VTtAz2Ut_leI"
      },
      "execution_count": null,
      "outputs": []
    },
    {
      "cell_type": "code",
      "source": [
        "# Making individual list for each column\n",
        "# then append it to likelihood\n",
        "for col in X_no.columns:\n",
        "  diff_values = X[col].unique()\n",
        "  li = [0] * len(diff_values)\n",
        "  for val in X_no[col]:\n",
        "    li[val] += 1\n",
        "  li = [x / len(X_no[col]) for x in li]\n",
        "  likelihood_no.append(li)"
      ],
      "metadata": {
        "id": "4T6SX4BK_Yvy"
      },
      "execution_count": null,
      "outputs": []
    },
    {
      "cell_type": "code",
      "source": [
        "df_1 = pd.DataFrame({ 'Outlook' : ['Overcast', 'Rainy', 'Sunny']\n",
        "                     , 'P(yes)' : likelihood_yes[0]\n",
        "                      , 'p(no)' : likelihood_no[0] })\n",
        "\n",
        "df_2 = pd.DataFrame({    'Temp' : ['Cool', 'Hot', 'Mild']\n",
        "                     , 'P(yes)' : likelihood_yes[1]\n",
        "                      , 'p(no)' : likelihood_no[1] })\n",
        "\n",
        "df_3 = pd.DataFrame({'Humidity' : ['High', 'Normal']\n",
        "                     , 'P(yes)' : likelihood_yes[2]\n",
        "                      , 'p(no)' : likelihood_no[2] })\n",
        "\n",
        "df_4 = pd.DataFrame({   'Windy' : ['f', 't']\n",
        "                     , 'P(yes)' : likelihood_yes[3]\n",
        "                      , 'p(no)' : likelihood_no[3] })"
      ],
      "metadata": {
        "id": "-MimNPf2p4MQ"
      },
      "execution_count": null,
      "outputs": []
    },
    {
      "cell_type": "code",
      "source": [
        "# Concatenating DataFrames horizontally\n",
        "result = pd.concat([df_1, df_2, df_3, df_4], axis=1)\n",
        "\n",
        "# Displaying the result\n",
        "result.style.hide()"
      ],
      "metadata": {
        "colab": {
          "base_uri": "https://localhost:8080/"
        },
        "id": "SJzQDYmFvjwx",
        "outputId": "3f9e5a50-a8d1-45bb-feff-959287b13056"
      },
      "execution_count": null,
      "outputs": [
        {
          "output_type": "execute_result",
          "data": {
            "text/plain": [
              "<pandas.io.formats.style.Styler at 0x78439b51bf10>"
            ],
            "text/html": [
              "<style type=\"text/css\">\n",
              "</style>\n",
              "<table id=\"T_415ff\" class=\"dataframe\">\n",
              "  <thead>\n",
              "    <tr>\n",
              "      <th id=\"T_415ff_level0_col0\" class=\"col_heading level0 col0\" >Outlook</th>\n",
              "      <th id=\"T_415ff_level0_col1\" class=\"col_heading level0 col1\" >P(yes)</th>\n",
              "      <th id=\"T_415ff_level0_col2\" class=\"col_heading level0 col2\" >p(no)</th>\n",
              "      <th id=\"T_415ff_level0_col3\" class=\"col_heading level0 col3\" >Temp</th>\n",
              "      <th id=\"T_415ff_level0_col4\" class=\"col_heading level0 col4\" >P(yes)</th>\n",
              "      <th id=\"T_415ff_level0_col5\" class=\"col_heading level0 col5\" >p(no)</th>\n",
              "      <th id=\"T_415ff_level0_col6\" class=\"col_heading level0 col6\" >Humidity</th>\n",
              "      <th id=\"T_415ff_level0_col7\" class=\"col_heading level0 col7\" >P(yes)</th>\n",
              "      <th id=\"T_415ff_level0_col8\" class=\"col_heading level0 col8\" >p(no)</th>\n",
              "      <th id=\"T_415ff_level0_col9\" class=\"col_heading level0 col9\" >Windy</th>\n",
              "      <th id=\"T_415ff_level0_col10\" class=\"col_heading level0 col10\" >P(yes)</th>\n",
              "      <th id=\"T_415ff_level0_col11\" class=\"col_heading level0 col11\" >p(no)</th>\n",
              "    </tr>\n",
              "  </thead>\n",
              "  <tbody>\n",
              "    <tr>\n",
              "      <td id=\"T_415ff_row0_col0\" class=\"data row0 col0\" >Overcast</td>\n",
              "      <td id=\"T_415ff_row0_col1\" class=\"data row0 col1\" >0.428571</td>\n",
              "      <td id=\"T_415ff_row0_col2\" class=\"data row0 col2\" >0.000000</td>\n",
              "      <td id=\"T_415ff_row0_col3\" class=\"data row0 col3\" >Cool</td>\n",
              "      <td id=\"T_415ff_row0_col4\" class=\"data row0 col4\" >0.428571</td>\n",
              "      <td id=\"T_415ff_row0_col5\" class=\"data row0 col5\" >0.200000</td>\n",
              "      <td id=\"T_415ff_row0_col6\" class=\"data row0 col6\" >High</td>\n",
              "      <td id=\"T_415ff_row0_col7\" class=\"data row0 col7\" >0.285714</td>\n",
              "      <td id=\"T_415ff_row0_col8\" class=\"data row0 col8\" >0.800000</td>\n",
              "      <td id=\"T_415ff_row0_col9\" class=\"data row0 col9\" >f</td>\n",
              "      <td id=\"T_415ff_row0_col10\" class=\"data row0 col10\" >0.714286</td>\n",
              "      <td id=\"T_415ff_row0_col11\" class=\"data row0 col11\" >0.400000</td>\n",
              "    </tr>\n",
              "    <tr>\n",
              "      <td id=\"T_415ff_row1_col0\" class=\"data row1 col0\" >Rainy</td>\n",
              "      <td id=\"T_415ff_row1_col1\" class=\"data row1 col1\" >0.285714</td>\n",
              "      <td id=\"T_415ff_row1_col2\" class=\"data row1 col2\" >0.600000</td>\n",
              "      <td id=\"T_415ff_row1_col3\" class=\"data row1 col3\" >Hot</td>\n",
              "      <td id=\"T_415ff_row1_col4\" class=\"data row1 col4\" >0.285714</td>\n",
              "      <td id=\"T_415ff_row1_col5\" class=\"data row1 col5\" >0.400000</td>\n",
              "      <td id=\"T_415ff_row1_col6\" class=\"data row1 col6\" >Normal</td>\n",
              "      <td id=\"T_415ff_row1_col7\" class=\"data row1 col7\" >0.714286</td>\n",
              "      <td id=\"T_415ff_row1_col8\" class=\"data row1 col8\" >0.200000</td>\n",
              "      <td id=\"T_415ff_row1_col9\" class=\"data row1 col9\" >t</td>\n",
              "      <td id=\"T_415ff_row1_col10\" class=\"data row1 col10\" >0.285714</td>\n",
              "      <td id=\"T_415ff_row1_col11\" class=\"data row1 col11\" >0.600000</td>\n",
              "    </tr>\n",
              "    <tr>\n",
              "      <td id=\"T_415ff_row2_col0\" class=\"data row2 col0\" >Sunny</td>\n",
              "      <td id=\"T_415ff_row2_col1\" class=\"data row2 col1\" >0.285714</td>\n",
              "      <td id=\"T_415ff_row2_col2\" class=\"data row2 col2\" >0.400000</td>\n",
              "      <td id=\"T_415ff_row2_col3\" class=\"data row2 col3\" >Mild</td>\n",
              "      <td id=\"T_415ff_row2_col4\" class=\"data row2 col4\" >0.285714</td>\n",
              "      <td id=\"T_415ff_row2_col5\" class=\"data row2 col5\" >0.400000</td>\n",
              "      <td id=\"T_415ff_row2_col6\" class=\"data row2 col6\" >nan</td>\n",
              "      <td id=\"T_415ff_row2_col7\" class=\"data row2 col7\" >nan</td>\n",
              "      <td id=\"T_415ff_row2_col8\" class=\"data row2 col8\" >nan</td>\n",
              "      <td id=\"T_415ff_row2_col9\" class=\"data row2 col9\" >nan</td>\n",
              "      <td id=\"T_415ff_row2_col10\" class=\"data row2 col10\" >nan</td>\n",
              "      <td id=\"T_415ff_row2_col11\" class=\"data row2 col11\" >nan</td>\n",
              "    </tr>\n",
              "  </tbody>\n",
              "</table>\n"
            ]
          },
          "metadata": {},
          "execution_count": 211
        }
      ]
    },
    {
      "cell_type": "markdown",
      "source": [
        "##TASK 3"
      ],
      "metadata": {
        "id": "1yMnJvMX_UI6"
      }
    },
    {
      "cell_type": "code",
      "source": [
        "# To array conversion\n",
        "X_test = X_test.to_numpy()\n",
        "i , j = X_test.shape"
      ],
      "metadata": {
        "id": "syo80fq5AixB"
      },
      "execution_count": null,
      "outputs": []
    },
    {
      "cell_type": "code",
      "source": [
        "p1_yes = p_yes\n",
        "p1_no = p_no\n",
        "\n",
        "for col in range(j):\n",
        "  p1_yes *= likelihood_yes[col][X_test[0][col]]\n",
        "  p1_no *= likelihood_no[col][X_test[0][col]]"
      ],
      "metadata": {
        "id": "5y92uCUCCL5v"
      },
      "execution_count": null,
      "outputs": []
    },
    {
      "cell_type": "code",
      "source": [
        "print('For yes : ', p1_yes)\n",
        "print('For no : ', p1_no)"
      ],
      "metadata": {
        "colab": {
          "base_uri": "https://localhost:8080/"
        },
        "id": "SYez6FSmDVxX",
        "outputId": "d0727425-3a1b-45e1-dd68-c742b3aa2d30"
      },
      "execution_count": null,
      "outputs": [
        {
          "output_type": "stream",
          "name": "stdout",
          "text": [
            "For yes :  0.024295432458697763\n",
            "For no :  0.005333333333333335\n"
          ]
        }
      ]
    },
    {
      "cell_type": "code",
      "source": [
        "p2_yes = p_yes\n",
        "p2_no = p_no\n",
        "\n",
        "for col in range(j):\n",
        "  p2_yes *= likelihood_yes[col][X_test[1][col]]\n",
        "  p2_no *= likelihood_no[col][X_test[1][col]]"
      ],
      "metadata": {
        "id": "2ooJ9UEyBZ-L"
      },
      "execution_count": null,
      "outputs": []
    },
    {
      "cell_type": "code",
      "source": [
        "print('For yes : ', p2_yes)\n",
        "print('For no : ', p2_no)"
      ],
      "metadata": {
        "colab": {
          "base_uri": "https://localhost:8080/"
        },
        "id": "JZw8GTYPDfDn",
        "outputId": "16424ac3-49d4-486a-c8e6-7d5653f4d39a"
      },
      "execution_count": null,
      "outputs": [
        {
          "output_type": "stream",
          "name": "stdout",
          "text": [
            "For yes :  0.005830903790087463\n",
            "For no :  0.0\n"
          ]
        }
      ]
    },
    {
      "cell_type": "markdown",
      "source": [
        "##TASK 4"
      ],
      "metadata": {
        "id": "BlP_BBKMEWQQ"
      }
    },
    {
      "cell_type": "code",
      "source": [
        "# Making predictions\n",
        "print('For case 1')\n",
        "if(p2_yes > p2_no):\n",
        "  print('Playing')\n",
        "else:\n",
        "  print('Not Plating')"
      ],
      "metadata": {
        "colab": {
          "base_uri": "https://localhost:8080/"
        },
        "id": "ihdkwwPGEXSH",
        "outputId": "0e88da51-0483-4c30-b7e7-450d03116556"
      },
      "execution_count": null,
      "outputs": [
        {
          "output_type": "stream",
          "name": "stdout",
          "text": [
            "For case 1\n",
            "Playing\n"
          ]
        }
      ]
    },
    {
      "cell_type": "code",
      "source": [
        "# Making predictions\n",
        "print('For case 2')\n",
        "if(p2_yes > p2_no):\n",
        "  print('Playing')\n",
        "else:\n",
        "  print('Not Plating')"
      ],
      "metadata": {
        "colab": {
          "base_uri": "https://localhost:8080/"
        },
        "id": "UCsXdhczFEjN",
        "outputId": "c7ad04d6-c206-4b9b-f806-772b9b67da58"
      },
      "execution_count": null,
      "outputs": [
        {
          "output_type": "stream",
          "name": "stdout",
          "text": [
            "For case 2\n",
            "Playing\n"
          ]
        }
      ]
    },
    {
      "cell_type": "markdown",
      "source": [
        "##TASK 5"
      ],
      "metadata": {
        "id": "MXOUZ4sJFoGM"
      }
    },
    {
      "cell_type": "code",
      "source": [
        "# Laplace Smoothing\n",
        "# Considering alpha  = 0.01\n",
        "alpha = 0.01\n",
        "# No of features k\n",
        "k = None"
      ],
      "metadata": {
        "id": "j6a33ApUGDfy"
      },
      "execution_count": null,
      "outputs": []
    },
    {
      "cell_type": "code",
      "source": [
        "likelihood_yes = []"
      ],
      "metadata": {
        "id": "Ym6NNZsHF7L7"
      },
      "execution_count": null,
      "outputs": []
    },
    {
      "cell_type": "code",
      "source": [
        "# Making individual list for each column\n",
        "# then append it to likelihood\n",
        "for col in X_yes.columns:\n",
        "  diff_values = X[col].unique()\n",
        "  k = len(diff_values)\n",
        "  li = [0] * len(diff_values)\n",
        "  for val in X_yes[col]:\n",
        "    li[val] += 1\n",
        "  li = [(x + alpha) / (len(X_yes[col]) +\n",
        "          (k * alpha)) for x in li]\n",
        "  likelihood_yes.append(li)"
      ],
      "metadata": {
        "id": "xHE2wfVfF7L7"
      },
      "execution_count": null,
      "outputs": []
    },
    {
      "cell_type": "code",
      "source": [
        "likelihood_no = []"
      ],
      "metadata": {
        "id": "ColhSsWZF7L8"
      },
      "execution_count": null,
      "outputs": []
    },
    {
      "cell_type": "code",
      "source": [
        "# Making individual list for each column\n",
        "# then append it to likelihood\n",
        "for col in X_no.columns:\n",
        "  diff_values = X[col].unique()\n",
        "  k = len(diff_values)\n",
        "  li = [0] * len(diff_values)\n",
        "  for val in X_no[col]:\n",
        "    li[val] += 1\n",
        "  li = [(x + alpha) / (len(X_no[col]) +\n",
        "          (k * alpha)) for x in li]\n",
        "  likelihood_no.append(li)"
      ],
      "metadata": {
        "id": "Xmum-ge_F7L8"
      },
      "execution_count": null,
      "outputs": []
    },
    {
      "cell_type": "code",
      "source": [
        "df_1 = pd.DataFrame({ 'Outlook' : ['Overcast', 'Rainy', 'Sunny']\n",
        "                     , 'P(yes)' : likelihood_yes[0]\n",
        "                      , 'p(no)' : likelihood_no[0] })\n",
        "\n",
        "df_2 = pd.DataFrame({    'Temp' : ['Cool', 'Hot', 'Mild']\n",
        "                     , 'P(yes)' : likelihood_yes[1]\n",
        "                      , 'p(no)' : likelihood_no[1] })\n",
        "\n",
        "df_3 = pd.DataFrame({'Humidity' : ['High', 'Normal']\n",
        "                     , 'P(yes)' : likelihood_yes[2]\n",
        "                      , 'p(no)' : likelihood_no[2] })\n",
        "\n",
        "df_4 = pd.DataFrame({   'Windy' : ['f', 't']\n",
        "                     , 'P(yes)' : likelihood_yes[3]\n",
        "                      , 'p(no)' : likelihood_no[3] })"
      ],
      "metadata": {
        "id": "N_47LhSzxI-w"
      },
      "execution_count": null,
      "outputs": []
    },
    {
      "cell_type": "code",
      "source": [
        "# Concatenating DataFrames horizontally\n",
        "result = pd.concat([df_1, df_2, df_3, df_4], axis=1)\n",
        "\n",
        "# Displaying the result\n",
        "result.style.hide()"
      ],
      "metadata": {
        "colab": {
          "base_uri": "https://localhost:8080/"
        },
        "outputId": "8669b918-3375-48aa-e41e-8588fafbb8c9",
        "id": "voeMR5dIxI-x"
      },
      "execution_count": null,
      "outputs": [
        {
          "output_type": "execute_result",
          "data": {
            "text/plain": [
              "<pandas.io.formats.style.Styler at 0x78439b69ea10>"
            ],
            "text/html": [
              "<style type=\"text/css\">\n",
              "</style>\n",
              "<table id=\"T_f7e93\" class=\"dataframe\">\n",
              "  <thead>\n",
              "    <tr>\n",
              "      <th id=\"T_f7e93_level0_col0\" class=\"col_heading level0 col0\" >Outlook</th>\n",
              "      <th id=\"T_f7e93_level0_col1\" class=\"col_heading level0 col1\" >P(yes)</th>\n",
              "      <th id=\"T_f7e93_level0_col2\" class=\"col_heading level0 col2\" >p(no)</th>\n",
              "      <th id=\"T_f7e93_level0_col3\" class=\"col_heading level0 col3\" >Temp</th>\n",
              "      <th id=\"T_f7e93_level0_col4\" class=\"col_heading level0 col4\" >P(yes)</th>\n",
              "      <th id=\"T_f7e93_level0_col5\" class=\"col_heading level0 col5\" >p(no)</th>\n",
              "      <th id=\"T_f7e93_level0_col6\" class=\"col_heading level0 col6\" >Humidity</th>\n",
              "      <th id=\"T_f7e93_level0_col7\" class=\"col_heading level0 col7\" >P(yes)</th>\n",
              "      <th id=\"T_f7e93_level0_col8\" class=\"col_heading level0 col8\" >p(no)</th>\n",
              "      <th id=\"T_f7e93_level0_col9\" class=\"col_heading level0 col9\" >Windy</th>\n",
              "      <th id=\"T_f7e93_level0_col10\" class=\"col_heading level0 col10\" >P(yes)</th>\n",
              "      <th id=\"T_f7e93_level0_col11\" class=\"col_heading level0 col11\" >p(no)</th>\n",
              "    </tr>\n",
              "  </thead>\n",
              "  <tbody>\n",
              "    <tr>\n",
              "      <td id=\"T_f7e93_row0_col0\" class=\"data row0 col0\" >Overcast</td>\n",
              "      <td id=\"T_f7e93_row0_col1\" class=\"data row0 col1\" >0.428165</td>\n",
              "      <td id=\"T_f7e93_row0_col2\" class=\"data row0 col2\" >0.001988</td>\n",
              "      <td id=\"T_f7e93_row0_col3\" class=\"data row0 col3\" >Cool</td>\n",
              "      <td id=\"T_f7e93_row0_col4\" class=\"data row0 col4\" >0.428165</td>\n",
              "      <td id=\"T_f7e93_row0_col5\" class=\"data row0 col5\" >0.200795</td>\n",
              "      <td id=\"T_f7e93_row0_col6\" class=\"data row0 col6\" >High</td>\n",
              "      <td id=\"T_f7e93_row0_col7\" class=\"data row0 col7\" >0.286325</td>\n",
              "      <td id=\"T_f7e93_row0_col8\" class=\"data row0 col8\" >0.798805</td>\n",
              "      <td id=\"T_f7e93_row0_col9\" class=\"data row0 col9\" >f</td>\n",
              "      <td id=\"T_f7e93_row0_col10\" class=\"data row0 col10\" >0.713675</td>\n",
              "      <td id=\"T_f7e93_row0_col11\" class=\"data row0 col11\" >0.400398</td>\n",
              "    </tr>\n",
              "    <tr>\n",
              "      <td id=\"T_f7e93_row1_col0\" class=\"data row1 col0\" >Rainy</td>\n",
              "      <td id=\"T_f7e93_row1_col1\" class=\"data row1 col1\" >0.285917</td>\n",
              "      <td id=\"T_f7e93_row1_col2\" class=\"data row1 col2\" >0.598410</td>\n",
              "      <td id=\"T_f7e93_row1_col3\" class=\"data row1 col3\" >Hot</td>\n",
              "      <td id=\"T_f7e93_row1_col4\" class=\"data row1 col4\" >0.285917</td>\n",
              "      <td id=\"T_f7e93_row1_col5\" class=\"data row1 col5\" >0.399602</td>\n",
              "      <td id=\"T_f7e93_row1_col6\" class=\"data row1 col6\" >Normal</td>\n",
              "      <td id=\"T_f7e93_row1_col7\" class=\"data row1 col7\" >0.713675</td>\n",
              "      <td id=\"T_f7e93_row1_col8\" class=\"data row1 col8\" >0.201195</td>\n",
              "      <td id=\"T_f7e93_row1_col9\" class=\"data row1 col9\" >t</td>\n",
              "      <td id=\"T_f7e93_row1_col10\" class=\"data row1 col10\" >0.286325</td>\n",
              "      <td id=\"T_f7e93_row1_col11\" class=\"data row1 col11\" >0.599602</td>\n",
              "    </tr>\n",
              "    <tr>\n",
              "      <td id=\"T_f7e93_row2_col0\" class=\"data row2 col0\" >Sunny</td>\n",
              "      <td id=\"T_f7e93_row2_col1\" class=\"data row2 col1\" >0.285917</td>\n",
              "      <td id=\"T_f7e93_row2_col2\" class=\"data row2 col2\" >0.399602</td>\n",
              "      <td id=\"T_f7e93_row2_col3\" class=\"data row2 col3\" >Mild</td>\n",
              "      <td id=\"T_f7e93_row2_col4\" class=\"data row2 col4\" >0.285917</td>\n",
              "      <td id=\"T_f7e93_row2_col5\" class=\"data row2 col5\" >0.399602</td>\n",
              "      <td id=\"T_f7e93_row2_col6\" class=\"data row2 col6\" >nan</td>\n",
              "      <td id=\"T_f7e93_row2_col7\" class=\"data row2 col7\" >nan</td>\n",
              "      <td id=\"T_f7e93_row2_col8\" class=\"data row2 col8\" >nan</td>\n",
              "      <td id=\"T_f7e93_row2_col9\" class=\"data row2 col9\" >nan</td>\n",
              "      <td id=\"T_f7e93_row2_col10\" class=\"data row2 col10\" >nan</td>\n",
              "      <td id=\"T_f7e93_row2_col11\" class=\"data row2 col11\" >nan</td>\n",
              "    </tr>\n",
              "  </tbody>\n",
              "</table>\n"
            ]
          },
          "metadata": {},
          "execution_count": 225
        }
      ]
    },
    {
      "cell_type": "code",
      "source": [
        "p1_yes = p_yes\n",
        "p1_no = p_no\n",
        "\n",
        "for col in range(j):\n",
        "  p1_yes *= likelihood_yes[col][X_test[0][col]]\n",
        "  p1_no *= likelihood_no[col][X_test[0][col]]"
      ],
      "metadata": {
        "id": "qVTntIlkHT1r"
      },
      "execution_count": null,
      "outputs": []
    },
    {
      "cell_type": "code",
      "source": [
        "print('For yes : ', p1_yes)\n",
        "print('For no : ', p1_no)"
      ],
      "metadata": {
        "colab": {
          "base_uri": "https://localhost:8080/"
        },
        "outputId": "1a076e52-2719-40b6-975e-adf7278a5927",
        "id": "1mYZyTfMHT1r"
      },
      "execution_count": null,
      "outputs": [
        {
          "output_type": "stream",
          "name": "stdout",
          "text": [
            "For yes :  0.02428843241892867\n",
            "For no :  0.005359877943368312\n"
          ]
        }
      ]
    },
    {
      "cell_type": "code",
      "source": [
        "p2_yes = p_yes\n",
        "p2_no = p_no\n",
        "\n",
        "for col in range(j):\n",
        "  p2_yes *= likelihood_yes[col][X_test[1][col]]\n",
        "  p2_no *= likelihood_no[col][X_test[1][col]]"
      ],
      "metadata": {
        "id": "frGjBhJPHT1r"
      },
      "execution_count": null,
      "outputs": []
    },
    {
      "cell_type": "code",
      "source": [
        "print('For yes : ', p2_yes)\n",
        "print('For no : ', p2_no)"
      ],
      "metadata": {
        "colab": {
          "base_uri": "https://localhost:8080/"
        },
        "outputId": "1bc309db-2b6f-483d-94a5-cac88fb16b89",
        "id": "kqyHvXVfHT1s"
      },
      "execution_count": null,
      "outputs": [
        {
          "output_type": "stream",
          "name": "stdout",
          "text": [
            "For yes :  0.005854456555063937\n",
            "For no :  0.00015854490113897748\n"
          ]
        }
      ]
    },
    {
      "cell_type": "code",
      "source": [
        "y_pred = []"
      ],
      "metadata": {
        "id": "4DOdOujYzNV8"
      },
      "execution_count": null,
      "outputs": []
    },
    {
      "cell_type": "code",
      "source": [
        "# Making predictions\n",
        "print('For case 1')\n",
        "if(p1_yes > p1_no):\n",
        "  print('Playing')\n",
        "  y_pred.append('yes')\n",
        "else:\n",
        "  print('Not Playing')\n",
        "  y_pred.append('no')"
      ],
      "metadata": {
        "colab": {
          "base_uri": "https://localhost:8080/"
        },
        "outputId": "5ed365a2-8ff5-4f27-baa6-083048bb8101",
        "id": "XL7WCp3XHclu"
      },
      "execution_count": null,
      "outputs": [
        {
          "output_type": "stream",
          "name": "stdout",
          "text": [
            "For case 1\n",
            "Playing\n"
          ]
        }
      ]
    },
    {
      "cell_type": "code",
      "source": [
        "# Making predictions\n",
        "print('For case 2')\n",
        "if(p2_yes > p2_no):\n",
        "  print('Playing')\n",
        "  y_pred.append('yes')\n",
        "else:\n",
        "  print('Not Playing')\n",
        "  y_pred.append('no')"
      ],
      "metadata": {
        "colab": {
          "base_uri": "https://localhost:8080/"
        },
        "outputId": "a74cf6ec-ef4d-40a4-fcfa-2ed575e1a24c",
        "id": "bC6oSmEOHclu"
      },
      "execution_count": null,
      "outputs": [
        {
          "output_type": "stream",
          "name": "stdout",
          "text": [
            "For case 2\n",
            "Playing\n"
          ]
        }
      ]
    },
    {
      "cell_type": "code",
      "source": [
        "accuracy_score(y_test, y_pred)"
      ],
      "metadata": {
        "colab": {
          "base_uri": "https://localhost:8080/"
        },
        "id": "lpxpWeYxzcMs",
        "outputId": "205a79f2-b8da-4266-b52b-0cb3af2ec792"
      },
      "execution_count": null,
      "outputs": [
        {
          "output_type": "execute_result",
          "data": {
            "text/plain": [
              "1.0"
            ]
          },
          "metadata": {},
          "execution_count": 233
        }
      ]
    }
  ]
}